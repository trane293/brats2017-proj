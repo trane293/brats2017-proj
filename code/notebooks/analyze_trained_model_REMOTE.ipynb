{
 "cells": [
  {
   "cell_type": "markdown",
   "metadata": {},
   "source": [
    "# Visualize the bounding boxes from Model"
   ]
  },
  {
   "cell_type": "markdown",
   "metadata": {},
   "source": [
    "# REMOTE COMPUTER"
   ]
  },
  {
   "cell_type": "code",
   "execution_count": null,
   "metadata": {},
   "outputs": [],
   "source": [
    "import sys\n",
    "sys.path.append('..')\n",
    "from modules.mischelpers import get_data_splits_bbox, open_hdf5, createDense\n",
    "from modules.configfile import config\n",
    "import importlib\n",
    "import optparse\n",
    "import os\n",
    "import logging\n",
    "from mayavi import mlab\n",
    "import numpy as np\n",
    "\n",
    "logging.basicConfig(level=logging.INFO)\n",
    "try:\n",
    "    logger = logging.getLogger(__file__.split('/')[-1])\n",
    "except:\n",
    "    logger = logging.getLogger(__name__)\n",
    "\n",
    "parser = optparse.OptionParser()\n",
    "parser.add_option('--dm', '--defmodelfile',\n",
    "                  dest=\"defmodelfile\",\n",
    "                  default=None,\n",
    "                  type='str'\n",
    "                  )\n",
    "parser.add_option('--i', '--in-name',\n",
    "                  dest=\"input_name\",\n",
    "                  default=None,\n",
    "                  type='str'\n",
    "                  )\n",
    "parser.add_option('--t', '--type',\n",
    "                  dest=\"type\",\n",
    "                  default=None,\n",
    "                  type='str'\n",
    "                  ) # either checkpoint or snapshot"
   ]
  },
  {
   "cell_type": "markdown",
   "metadata": {},
   "source": [
    "### Set arguments"
   ]
  },
  {
   "cell_type": "code",
   "execution_count": null,
   "metadata": {},
   "outputs": [],
   "source": [
    "options, remainder = parser.parse_args(['--dm', 'cnn', '--i', 'original_tuning_dice.h501--0.00.h5', '--t', 'checkpoints'])"
   ]
  },
  {
   "cell_type": "code",
   "execution_count": null,
   "metadata": {},
   "outputs": [],
   "source": [
    "if options.input_name == None:\n",
    "    logger.info('No input name defined, using default values')\n",
    "    if options.type == 'snapshots':\n",
    "        options.input_name = '/local-scratch/cedar-rm/scratch/asa224/model-snapshots/model_default.h5'\n",
    "    else:\n",
    "        options.input_name = '/local-scratch/cedar-rm/scratch/asa224/model-checkpoints/model_default.h5'\n",
    "    logger.info('Name of input file: {}'.format(options.input_name))\n",
    "else:\n",
    "    if options.type == 'snapshots':\n",
    "        options.input_name = os.path.join('/local-scratch/cedar-rm/scratch/asa224/model-snapshots/', options.input_name)\n",
    "    else:\n",
    "        options.input_name = os.path.join('/local-scratch/cedar-rm/scratch/asa224/model-checkpoints/', options.input_name)\n",
    "    logger.info('Name of input file: {}'.format(options.input_name))\n",
    "\n",
    "if options.defmodelfile == None:\n",
    "    logger.info('No defmodel file name defined, using default model (cnn)')\n",
    "    options.defmodelfile = 'cnn'\n",
    "\n",
    "modeldefmodule = importlib.import_module('defmodel.' + options.defmodelfile, package=None)"
   ]
  },
  {
   "cell_type": "code",
   "execution_count": null,
   "metadata": {},
   "outputs": [],
   "source": [
    "# config['hdf5_filepath_prefix'] = '/local-scratch/cedar-rm/scratch/asa224/Datasets/BRATS2017/BRATS_vanilla.h5'"
   ]
  },
  {
   "cell_type": "code",
   "execution_count": null,
   "metadata": {},
   "outputs": [],
   "source": [
    "x_train, y_train, x_test, y_test = get_data_splits_bbox(config['hdf5_filepath_prefix'],\n",
    "                                                        train_start=0, train_end=190, test_start=190, test_end=None)"
   ]
  },
  {
   "cell_type": "code",
   "execution_count": null,
   "metadata": {
    "scrolled": false
   },
   "outputs": [],
   "source": [
    "if options.type == 'snapshots':\n",
    "    model, hyparams, history = modeldefmodule.open_model_with_hyper_and_history(name=options.input_name)\n",
    "else:\n",
    "    from keras.models import load_model\n",
    "    import keras.backend as K\n",
    "    import tensorflow as tf\n",
    "    def bbox_overlap_iou(y_true, y_pred):\n",
    "        # split the bounding boxes into individual tensors\n",
    "        xmin_true, xmax_true, ymin_true, ymax_true, zmin_true, zmax_true = tf.split(y_true, 6, axis=1)\n",
    "        xmin_pred, xmax_pred, ymin_pred, ymax_pred, zmin_pred, zmax_pred = tf.split(y_pred, 6, axis=1)\n",
    "\n",
    "        dx = K.minimum(xmax_true, xmax_pred) - K.maximum(xmin_true, xmin_pred)\n",
    "        dy = K.minimum(ymax_true, ymax_pred) - K.maximum(ymin_true, ymin_pred)\n",
    "        dz = K.minimum(zmax_true, zmax_pred) - K.maximum(zmin_true, zmin_pred)\n",
    "\n",
    "        intersection = dx * dy * dz\n",
    "\n",
    "        # find the total volume and then find the union\n",
    "        vol_true = (xmax_true - xmin_true) * (ymax_true - ymin_true) * (ymax_true - ymin_true)\n",
    "        vol_pred = (xmax_pred - xmin_pred) * (ymax_pred - ymin_pred) * (ymax_pred - ymin_pred)\n",
    "\n",
    "        # find the union now\n",
    "        union = vol_true + vol_pred - intersection\n",
    "\n",
    "        iou = intersection / union\n",
    "\n",
    "        return -iou\n",
    "    model = load_model(options.input_name, custom_objects={'bbox_overlap_iou': bbox_overlap_iou})"
   ]
  },
  {
   "cell_type": "code",
   "execution_count": null,
   "metadata": {},
   "outputs": [],
   "source": [
    "model.summary()"
   ]
  },
  {
   "cell_type": "code",
   "execution_count": null,
   "metadata": {},
   "outputs": [],
   "source": [
    "model.evaluate(x_test, y_test, batch_size=1)"
   ]
  },
  {
   "cell_type": "code",
   "execution_count": null,
   "metadata": {},
   "outputs": [],
   "source": [
    "import numpy as np\n",
    "y_pred = np.empty((20,6))\n",
    "for i in range(x_test.shape[0]):\n",
    "    y_pred[i] = model.predict(x_test[i].reshape(1,4,240,240,155))\n",
    "    logger.info('.')"
   ]
  },
  {
   "cell_type": "code",
   "execution_count": null,
   "metadata": {},
   "outputs": [],
   "source": [
    "np.save(open('/local-scratch/cedar-rm/scratch/asa224/model-checkpoints/y_pred.npy', 'w'), y_pred)"
   ]
  }
 ],
 "metadata": {
  "kernelspec": {
   "display_name": "Python 2",
   "language": "python",
   "name": "python2"
  },
  "language_info": {
   "codemirror_mode": {
    "name": "ipython",
    "version": 2
   },
   "file_extension": ".py",
   "mimetype": "text/x-python",
   "name": "python",
   "nbconvert_exporter": "python",
   "pygments_lexer": "ipython2",
   "version": "2.7.11"
  }
 },
 "nbformat": 4,
 "nbformat_minor": 2
}
