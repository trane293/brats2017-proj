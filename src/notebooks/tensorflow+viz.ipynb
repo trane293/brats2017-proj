{
 "cells": [
  {
   "cell_type": "code",
   "execution_count": 1,
   "metadata": {},
   "outputs": [],
   "source": [
    "import tensorflow as tf"
   ]
  },
  {
   "cell_type": "code",
   "execution_count": 2,
   "metadata": {},
   "outputs": [],
   "source": [
    "import numpy as np"
   ]
  },
  {
   "cell_type": "code",
   "execution_count": 4,
   "metadata": {},
   "outputs": [],
   "source": [
    "y_pred_3d_mask = tf.Variable(y_pred)\n",
    "y_pred = tf.Variable([1, 20, 2, 40, 3, 60])\n",
    "y_train = tf.Variable([10, 200, 20, 400, 30, 600])"
   ]
  },
  {
   "cell_type": "code",
   "execution_count": 6,
   "metadata": {},
   "outputs": [
    {
     "data": {
      "text/plain": [
       "<tf.Tensor 'Shape:0' shape=(1,) dtype=int32>"
      ]
     },
     "execution_count": 6,
     "metadata": {},
     "output_type": "execute_result"
    }
   ],
   "source": [
    "tf.shape(y_pred)"
   ]
  },
  {
   "cell_type": "markdown",
   "metadata": {},
   "source": [
    "# Simple implementation"
   ]
  },
  {
   "cell_type": "code",
   "execution_count": 22,
   "metadata": {},
   "outputs": [
    {
     "name": "stdout",
     "output_type": "stream",
     "text": [
      "1000\n",
      "15000\n"
     ]
    }
   ],
   "source": [
    "from collections import namedtuple\n",
    "Rectangle = namedtuple('Rectangle', 'xmin xmax ymin ymax zmin zmax')\n",
    "\n",
    "ra = Rectangle(10, 30, 10, 30, 10, 30)\n",
    "rb = Rectangle(20, 40, 20, 40, 20, 40)\n",
    "# intersection here is (3, 3, 4, 3.5), or an area of 1*.5=.5\n",
    "\n",
    "def intersection_volume(a, b):  # returns None if rectangles don't intersect\n",
    "    dx = min(a.xmax, b.xmax) - max(a.xmin, b.xmin)\n",
    "    dy = min(a.ymax, b.ymax) - max(a.ymin, b.ymin)\n",
    "    dz = min(a.zmax, b.zmax) - max(a.zmin, b.zmin)\n",
    "    if (dx>=0) and (dy>=0) and (dz>=0):\n",
    "        return dx*dy*dz\n",
    "\n",
    "def total_volume(a, b):\n",
    "    vol_a = (a.xmax - a.xmin) * (a.ymax - a.ymin) * (a.zmax - a.zmin)\n",
    "    vol_b = (b.xmax - b.xmin) * (b.ymax - b.ymin) * (b.zmax - b.zmin)\n",
    "    \n",
    "    union = vol_a + vol_b - intersection_volume(a,b)\n",
    "    return union\n",
    "    \n",
    "print area(ra, rb)\n",
    "print(total_volume(ra, rb))"
   ]
  },
  {
   "cell_type": "markdown",
   "metadata": {},
   "source": [
    "# Implement in numpy and view in Mayavi to ensure"
   ]
  },
  {
   "cell_type": "code",
   "execution_count": 34,
   "metadata": {},
   "outputs": [],
   "source": [
    "import numpy as np\n",
    "import mayavi.mlab as mlab\n",
    "import sys\n",
    "sys.path.append('..')\n",
    "\n",
    "from modules.mischelpers import createDense"
   ]
  },
  {
   "cell_type": "code",
   "execution_count": 35,
   "metadata": {},
   "outputs": [],
   "source": [
    "seg = np.zeros((240, 240, 155))\n",
    "ra = np.array([10, 30, 10, 30, 10, 30])\n",
    "rb = np.array([20, 40, 20, 40, 20, 40])\n",
    "\n",
    "\n",
    "dense_bbox_orig = createDense(ra, seg)\n",
    "dense_bbox_pred = createDense(rb, seg)\n",
    "\n",
    "# start the visualization process\n",
    "mfig = mlab.figure() # size=(1024, 1024)\n",
    "\n",
    "mlab.contour3d(dense_bbox_orig, opacity=0.5, color=(0,1,0), transparent=True)\n",
    "mlab.contour3d(dense_bbox_pred, opacity=0.5, color=(1,0,1), transparent=True)\n",
    "\n",
    "mlab.show()"
   ]
  },
  {
   "cell_type": "markdown",
   "metadata": {},
   "source": [
    "# Implement in tensorflow"
   ]
  },
  {
   "cell_type": "code",
   "execution_count": 8,
   "metadata": {},
   "outputs": [],
   "source": [
    "def tf_count(t, val):\n",
    "    elements_equal_to_value = tf.equal(t, val)\n",
    "    as_ints = tf.cast(elements_equal_to_value, tf.int32)\n",
    "    count = tf.reduce_sum(as_ints)\n",
    "    return count\n",
    "\n",
    "def bbox_iou_masks(y_true, y_pred):\n",
    "    # split the bounding boxes into individual tensors\n",
    "    xmin_true, xmax_true, ymin_true, ymax_true, zmin_true, zmax_true = tf.split(y_true, 6, axis=1)\n",
    "    xmin_pred, xmax_pred, ymin_pred, ymax_pred, zmin_pred, zmax_pred = tf.split(y_pred, 6, axis=1)\n",
    "    \n",
    "    y_true_tmp = tf.ones([xmax_true, ymax_true, zmax_true])\n",
    "    y_pred_tmp = tf.ones([xmax_pred, ymax_pred, zmax_pred])\n",
    "    \n",
    "    y_true_blacks = tf.zeros([240, 240, 155], dtype=tf.float32, name=None)\n",
    "    y_pred_blacks = tf.zeros([240, 240, 155], dtype=tf.float32, name=None)\n",
    "    \n",
    "    y_true_mask = y_true_blacks[xmin_true:xmax_true, ymin_true:ymax_true, zmin_true:zmax_true].assign(y_true_tmp)\n",
    "    y_pred_mask = y_pred_blacks[xmin_pred:xmax_pred, ymin_pred:ymax_pred, zmin_pred:zmax_pred].assign(y_pred_tmp)\n",
    "    \n",
    "    # count all non-zeros in the masks to get the union value\n",
    "    \n",
    "    total_mask = y_true_mask + y_pred_mask\n",
    "    \n",
    "    union = tf_count(total_mask, 1.0)\n",
    "    intersection = tf_count(total_mask, 2.0)\n",
    "    \n",
    "    iou = intersection / (union + 0.0001)\n",
    "    \n",
    "    return intersection, union, iou"
   ]
  },
  {
   "cell_type": "code",
   "execution_count": 3,
   "metadata": {},
   "outputs": [],
   "source": [
    "import tensorflow as tf\n",
    "import keras.backend as K\n",
    "import numpy as np\n",
    "from keras.losses import mean_absolute_error\n",
    "import mayavi.mlab as mlab\n",
    "import sys\n",
    "sys.path.append('..')\n",
    "from modules.mischelpers import createDense\n",
    "\n",
    "\n",
    "def bbox_overlap_iou(y_true, y_pred):\n",
    "    # split the bounding boxes into individual tensors\n",
    "    xmin_true, xmax_true, ymin_true, ymax_true, zmin_true, zmax_true = tf.split(y_true, 6, axis=1)\n",
    "    xmin_pred, xmax_pred, ymin_pred, ymax_pred, zmin_pred, zmax_pred = tf.split(y_pred, 6, axis=1)\n",
    "\n",
    "    dx = K.minimum(xmax_true, xmax_pred) - K.maximum(xmin_true, xmin_pred)\n",
    "    dy = K.minimum(ymax_true, ymax_pred) - K.maximum(ymin_true, ymin_pred)\n",
    "    dz = K.minimum(zmax_true, zmax_pred) - K.maximum(zmin_true, zmin_pred)\n",
    "\n",
    "    # find the intersection volume of the boxes\n",
    "    intersection = dx * dy * dz\n",
    "    \n",
    "    # find the total volume and then find the union\n",
    "    vol_true = (xmax_true - xmin_true) * (ymax_true - ymin_true) * (ymax_true - ymin_true)\n",
    "    vol_pred = (xmax_pred - xmin_pred) * (ymax_pred - ymin_pred) * (ymax_pred - ymin_pred)\n",
    "\n",
    "    # find the union now\n",
    "    union = vol_true + vol_pred - intersection\n",
    "    \n",
    "    iou = intersection / (union + 0.0001)\n",
    "    \n",
    "    return intersection, union, iou\n",
    "\n",
    "def iou_with_mse(y_true, y_pred):\n",
    "    # split the bounding boxes into individual tensors\n",
    "    xmin_true, xmax_true, ymin_true, ymax_true, zmin_true, zmax_true = tf.split(y_true, 6, axis=1)\n",
    "    xmin_pred, xmax_pred, ymin_pred, ymax_pred, zmin_pred, zmax_pred = tf.split(y_pred, 6, axis=1)\n",
    "\n",
    "    dx = K.minimum(xmax_true, xmax_pred) - K.maximum(xmin_true, xmin_pred)\n",
    "    dy = K.minimum(ymax_true, ymax_pred) - K.maximum(ymin_true, ymin_pred)\n",
    "    dz = K.minimum(zmax_true, zmax_pred) - K.maximum(zmin_true, zmin_pred)\n",
    "\n",
    "    intersection = dx * dy * dz\n",
    "    intersection = K.relu(intersection)\n",
    "\n",
    "    # find the total volume and then find the union\n",
    "    vol_true = tf.abs((xmax_true - xmin_true) * (ymax_true - ymin_true) * (ymax_true - ymin_true))\n",
    "    vol_pred = tf.abs((xmax_pred - xmin_pred) * (ymax_pred - ymin_pred) * (ymax_pred - ymin_pred))\n",
    "\n",
    "    # find the union now\n",
    "    union = vol_true + vol_pred - intersection\n",
    "\n",
    "    iou = intersection / union\n",
    "\n",
    "    return -1000*iou, mean_absolute_error(y_true, y_pred), intersection, union, iou"
   ]
  },
  {
   "cell_type": "code",
   "execution_count": 9,
   "metadata": {},
   "outputs": [
    {
     "ename": "TypeError",
     "evalue": "Expected int32, got list containing Tensors of type '_Message' instead.",
     "traceback": [
      "\u001b[0;31m---------------------------------------------------------------------------\u001b[0m",
      "\u001b[0;31mTypeError\u001b[0m                                 Traceback (most recent call last)",
      "\u001b[0;32m<ipython-input-9-f1885e2fae9e>\u001b[0m in \u001b[0;36m<module>\u001b[0;34m()\u001b[0m\n\u001b[1;32m      4\u001b[0m \u001b[0;31m# overlap_op = iou_with_mse(bboxes1, bboxes2)\u001b[0m\u001b[0;34m\u001b[0m\u001b[0;34m\u001b[0m\u001b[0m\n\u001b[1;32m      5\u001b[0m \u001b[0;34m\u001b[0m\u001b[0m\n\u001b[0;32m----> 6\u001b[0;31m \u001b[0moverlap_op\u001b[0m \u001b[0;34m=\u001b[0m \u001b[0mbbox_iou_masks\u001b[0m\u001b[0;34m(\u001b[0m\u001b[0mbboxes1\u001b[0m\u001b[0;34m,\u001b[0m \u001b[0mbboxes2\u001b[0m\u001b[0;34m)\u001b[0m\u001b[0;34m\u001b[0m\u001b[0m\n\u001b[0m\u001b[1;32m      7\u001b[0m \u001b[0;34m\u001b[0m\u001b[0m\n\u001b[1;32m      8\u001b[0m \u001b[0mbboxes1_vals\u001b[0m \u001b[0;34m=\u001b[0m \u001b[0mnp\u001b[0m\u001b[0;34m.\u001b[0m\u001b[0marray\u001b[0m\u001b[0;34m(\u001b[0m\u001b[0;34m[\u001b[0m\u001b[0;36m10\u001b[0m\u001b[0;34m,\u001b[0m \u001b[0;36m30\u001b[0m\u001b[0;34m,\u001b[0m \u001b[0;36m10\u001b[0m\u001b[0;34m,\u001b[0m \u001b[0;36m30\u001b[0m\u001b[0;34m,\u001b[0m \u001b[0;36m10\u001b[0m\u001b[0;34m,\u001b[0m \u001b[0;36m30\u001b[0m\u001b[0;34m]\u001b[0m\u001b[0;34m)\u001b[0m\u001b[0;34m\u001b[0m\u001b[0m\n",
      "\u001b[0;32m<ipython-input-8-4ea2c7e95026>\u001b[0m in \u001b[0;36mbbox_iou_masks\u001b[0;34m(y_true, y_pred)\u001b[0m\n\u001b[1;32m     10\u001b[0m     \u001b[0mxmin_pred\u001b[0m\u001b[0;34m,\u001b[0m \u001b[0mxmax_pred\u001b[0m\u001b[0;34m,\u001b[0m \u001b[0mymin_pred\u001b[0m\u001b[0;34m,\u001b[0m \u001b[0mymax_pred\u001b[0m\u001b[0;34m,\u001b[0m \u001b[0mzmin_pred\u001b[0m\u001b[0;34m,\u001b[0m \u001b[0mzmax_pred\u001b[0m \u001b[0;34m=\u001b[0m \u001b[0mtf\u001b[0m\u001b[0;34m.\u001b[0m\u001b[0msplit\u001b[0m\u001b[0;34m(\u001b[0m\u001b[0my_pred\u001b[0m\u001b[0;34m,\u001b[0m \u001b[0;36m6\u001b[0m\u001b[0;34m,\u001b[0m \u001b[0maxis\u001b[0m\u001b[0;34m=\u001b[0m\u001b[0;36m1\u001b[0m\u001b[0;34m)\u001b[0m\u001b[0;34m\u001b[0m\u001b[0m\n\u001b[1;32m     11\u001b[0m \u001b[0;34m\u001b[0m\u001b[0m\n\u001b[0;32m---> 12\u001b[0;31m     \u001b[0my_true_tmp\u001b[0m \u001b[0;34m=\u001b[0m \u001b[0mtf\u001b[0m\u001b[0;34m.\u001b[0m\u001b[0mones\u001b[0m\u001b[0;34m(\u001b[0m\u001b[0;34m[\u001b[0m\u001b[0mxmax_true\u001b[0m\u001b[0;34m,\u001b[0m \u001b[0mymax_true\u001b[0m\u001b[0;34m,\u001b[0m \u001b[0mzmax_true\u001b[0m\u001b[0;34m]\u001b[0m\u001b[0;34m)\u001b[0m\u001b[0;34m\u001b[0m\u001b[0m\n\u001b[0m\u001b[1;32m     13\u001b[0m     \u001b[0my_pred_tmp\u001b[0m \u001b[0;34m=\u001b[0m \u001b[0mtf\u001b[0m\u001b[0;34m.\u001b[0m\u001b[0mones\u001b[0m\u001b[0;34m(\u001b[0m\u001b[0;34m[\u001b[0m\u001b[0mxmax_pred\u001b[0m\u001b[0;34m,\u001b[0m \u001b[0mymax_pred\u001b[0m\u001b[0;34m,\u001b[0m \u001b[0mzmax_pred\u001b[0m\u001b[0;34m]\u001b[0m\u001b[0;34m)\u001b[0m\u001b[0;34m\u001b[0m\u001b[0m\n\u001b[1;32m     14\u001b[0m \u001b[0;34m\u001b[0m\u001b[0m\n",
      "\u001b[0;32m/local-scratch/anaconda2/envs/mayavi/lib/python2.7/site-packages/tensorflow/python/ops/array_ops.pyc\u001b[0m in \u001b[0;36mones\u001b[0;34m(shape, dtype, name)\u001b[0m\n\u001b[1;32m   1561\u001b[0m       \u001b[0moutput\u001b[0m \u001b[0;34m=\u001b[0m \u001b[0mconstant\u001b[0m\u001b[0;34m(\u001b[0m\u001b[0mone\u001b[0m\u001b[0;34m,\u001b[0m \u001b[0mshape\u001b[0m\u001b[0;34m=\u001b[0m\u001b[0mshape\u001b[0m\u001b[0;34m,\u001b[0m \u001b[0mdtype\u001b[0m\u001b[0;34m=\u001b[0m\u001b[0mdtype\u001b[0m\u001b[0;34m,\u001b[0m \u001b[0mname\u001b[0m\u001b[0;34m=\u001b[0m\u001b[0mname\u001b[0m\u001b[0;34m)\u001b[0m\u001b[0;34m\u001b[0m\u001b[0m\n\u001b[1;32m   1562\u001b[0m     \u001b[0;32mexcept\u001b[0m \u001b[0;34m(\u001b[0m\u001b[0mTypeError\u001b[0m\u001b[0;34m,\u001b[0m \u001b[0mValueError\u001b[0m\u001b[0;34m)\u001b[0m\u001b[0;34m:\u001b[0m\u001b[0;34m\u001b[0m\u001b[0m\n\u001b[0;32m-> 1563\u001b[0;31m       \u001b[0mshape\u001b[0m \u001b[0;34m=\u001b[0m \u001b[0mops\u001b[0m\u001b[0;34m.\u001b[0m\u001b[0mconvert_to_tensor\u001b[0m\u001b[0;34m(\u001b[0m\u001b[0mshape\u001b[0m\u001b[0;34m,\u001b[0m \u001b[0mdtype\u001b[0m\u001b[0;34m=\u001b[0m\u001b[0mdtypes\u001b[0m\u001b[0;34m.\u001b[0m\u001b[0mint32\u001b[0m\u001b[0;34m,\u001b[0m \u001b[0mname\u001b[0m\u001b[0;34m=\u001b[0m\u001b[0;34m\"shape\"\u001b[0m\u001b[0;34m)\u001b[0m\u001b[0;34m\u001b[0m\u001b[0m\n\u001b[0m\u001b[1;32m   1564\u001b[0m       \u001b[0moutput\u001b[0m \u001b[0;34m=\u001b[0m \u001b[0mfill\u001b[0m\u001b[0;34m(\u001b[0m\u001b[0mshape\u001b[0m\u001b[0;34m,\u001b[0m \u001b[0mconstant\u001b[0m\u001b[0;34m(\u001b[0m\u001b[0mone\u001b[0m\u001b[0;34m,\u001b[0m \u001b[0mdtype\u001b[0m\u001b[0;34m=\u001b[0m\u001b[0mdtype\u001b[0m\u001b[0;34m)\u001b[0m\u001b[0;34m,\u001b[0m \u001b[0mname\u001b[0m\u001b[0;34m=\u001b[0m\u001b[0mname\u001b[0m\u001b[0;34m)\u001b[0m\u001b[0;34m\u001b[0m\u001b[0m\n\u001b[1;32m   1565\u001b[0m   \u001b[0;32massert\u001b[0m \u001b[0moutput\u001b[0m\u001b[0;34m.\u001b[0m\u001b[0mdtype\u001b[0m\u001b[0;34m.\u001b[0m\u001b[0mbase_dtype\u001b[0m \u001b[0;34m==\u001b[0m \u001b[0mdtype\u001b[0m\u001b[0;34m\u001b[0m\u001b[0m\n",
      "\u001b[0;32m/local-scratch/anaconda2/envs/mayavi/lib/python2.7/site-packages/tensorflow/python/framework/ops.pyc\u001b[0m in \u001b[0;36mconvert_to_tensor\u001b[0;34m(value, dtype, name, preferred_dtype)\u001b[0m\n\u001b[1;32m    834\u001b[0m       \u001b[0mname\u001b[0m\u001b[0;34m=\u001b[0m\u001b[0mname\u001b[0m\u001b[0;34m,\u001b[0m\u001b[0;34m\u001b[0m\u001b[0m\n\u001b[1;32m    835\u001b[0m       \u001b[0mpreferred_dtype\u001b[0m\u001b[0;34m=\u001b[0m\u001b[0mpreferred_dtype\u001b[0m\u001b[0;34m,\u001b[0m\u001b[0;34m\u001b[0m\u001b[0m\n\u001b[0;32m--> 836\u001b[0;31m       as_ref=False)\n\u001b[0m\u001b[1;32m    837\u001b[0m \u001b[0;34m\u001b[0m\u001b[0m\n\u001b[1;32m    838\u001b[0m \u001b[0;34m\u001b[0m\u001b[0m\n",
      "\u001b[0;32m/local-scratch/anaconda2/envs/mayavi/lib/python2.7/site-packages/tensorflow/python/framework/ops.pyc\u001b[0m in \u001b[0;36minternal_convert_to_tensor\u001b[0;34m(value, dtype, name, as_ref, preferred_dtype, ctx)\u001b[0m\n\u001b[1;32m    924\u001b[0m \u001b[0;34m\u001b[0m\u001b[0m\n\u001b[1;32m    925\u001b[0m     \u001b[0;32mif\u001b[0m \u001b[0mret\u001b[0m \u001b[0;32mis\u001b[0m \u001b[0mNone\u001b[0m\u001b[0;34m:\u001b[0m\u001b[0;34m\u001b[0m\u001b[0m\n\u001b[0;32m--> 926\u001b[0;31m       \u001b[0mret\u001b[0m \u001b[0;34m=\u001b[0m \u001b[0mconversion_func\u001b[0m\u001b[0;34m(\u001b[0m\u001b[0mvalue\u001b[0m\u001b[0;34m,\u001b[0m \u001b[0mdtype\u001b[0m\u001b[0;34m=\u001b[0m\u001b[0mdtype\u001b[0m\u001b[0;34m,\u001b[0m \u001b[0mname\u001b[0m\u001b[0;34m=\u001b[0m\u001b[0mname\u001b[0m\u001b[0;34m,\u001b[0m \u001b[0mas_ref\u001b[0m\u001b[0;34m=\u001b[0m\u001b[0mas_ref\u001b[0m\u001b[0;34m)\u001b[0m\u001b[0;34m\u001b[0m\u001b[0m\n\u001b[0m\u001b[1;32m    927\u001b[0m \u001b[0;34m\u001b[0m\u001b[0m\n\u001b[1;32m    928\u001b[0m     \u001b[0;32mif\u001b[0m \u001b[0mret\u001b[0m \u001b[0;32mis\u001b[0m \u001b[0mNotImplemented\u001b[0m\u001b[0;34m:\u001b[0m\u001b[0;34m\u001b[0m\u001b[0m\n",
      "\u001b[0;32m/local-scratch/anaconda2/envs/mayavi/lib/python2.7/site-packages/tensorflow/python/framework/constant_op.pyc\u001b[0m in \u001b[0;36m_constant_tensor_conversion_function\u001b[0;34m(v, dtype, name, as_ref)\u001b[0m\n\u001b[1;32m    227\u001b[0m                                          as_ref=False):\n\u001b[1;32m    228\u001b[0m   \u001b[0m_\u001b[0m \u001b[0;34m=\u001b[0m \u001b[0mas_ref\u001b[0m\u001b[0;34m\u001b[0m\u001b[0m\n\u001b[0;32m--> 229\u001b[0;31m   \u001b[0;32mreturn\u001b[0m \u001b[0mconstant\u001b[0m\u001b[0;34m(\u001b[0m\u001b[0mv\u001b[0m\u001b[0;34m,\u001b[0m \u001b[0mdtype\u001b[0m\u001b[0;34m=\u001b[0m\u001b[0mdtype\u001b[0m\u001b[0;34m,\u001b[0m \u001b[0mname\u001b[0m\u001b[0;34m=\u001b[0m\u001b[0mname\u001b[0m\u001b[0;34m)\u001b[0m\u001b[0;34m\u001b[0m\u001b[0m\n\u001b[0m\u001b[1;32m    230\u001b[0m \u001b[0;34m\u001b[0m\u001b[0m\n\u001b[1;32m    231\u001b[0m \u001b[0;34m\u001b[0m\u001b[0m\n",
      "\u001b[0;32m/local-scratch/anaconda2/envs/mayavi/lib/python2.7/site-packages/tensorflow/python/framework/constant_op.pyc\u001b[0m in \u001b[0;36mconstant\u001b[0;34m(value, dtype, shape, name, verify_shape)\u001b[0m\n\u001b[1;32m    206\u001b[0m   tensor_value.tensor.CopyFrom(\n\u001b[1;32m    207\u001b[0m       tensor_util.make_tensor_proto(\n\u001b[0;32m--> 208\u001b[0;31m           value, dtype=dtype, shape=shape, verify_shape=verify_shape))\n\u001b[0m\u001b[1;32m    209\u001b[0m   \u001b[0mdtype_value\u001b[0m \u001b[0;34m=\u001b[0m \u001b[0mattr_value_pb2\u001b[0m\u001b[0;34m.\u001b[0m\u001b[0mAttrValue\u001b[0m\u001b[0;34m(\u001b[0m\u001b[0mtype\u001b[0m\u001b[0;34m=\u001b[0m\u001b[0mtensor_value\u001b[0m\u001b[0;34m.\u001b[0m\u001b[0mtensor\u001b[0m\u001b[0;34m.\u001b[0m\u001b[0mdtype\u001b[0m\u001b[0;34m)\u001b[0m\u001b[0;34m\u001b[0m\u001b[0m\n\u001b[1;32m    210\u001b[0m   const_tensor = g.create_op(\n",
      "\u001b[0;32m/local-scratch/anaconda2/envs/mayavi/lib/python2.7/site-packages/tensorflow/python/framework/tensor_util.pyc\u001b[0m in \u001b[0;36mmake_tensor_proto\u001b[0;34m(values, dtype, shape, verify_shape)\u001b[0m\n\u001b[1;32m    381\u001b[0m       \u001b[0mnparray\u001b[0m \u001b[0;34m=\u001b[0m \u001b[0mnp\u001b[0m\u001b[0;34m.\u001b[0m\u001b[0mempty\u001b[0m\u001b[0;34m(\u001b[0m\u001b[0mshape\u001b[0m\u001b[0;34m,\u001b[0m \u001b[0mdtype\u001b[0m\u001b[0;34m=\u001b[0m\u001b[0mnp_dt\u001b[0m\u001b[0;34m)\u001b[0m\u001b[0;34m\u001b[0m\u001b[0m\n\u001b[1;32m    382\u001b[0m     \u001b[0;32melse\u001b[0m\u001b[0;34m:\u001b[0m\u001b[0;34m\u001b[0m\u001b[0m\n\u001b[0;32m--> 383\u001b[0;31m       \u001b[0m_AssertCompatible\u001b[0m\u001b[0;34m(\u001b[0m\u001b[0mvalues\u001b[0m\u001b[0;34m,\u001b[0m \u001b[0mdtype\u001b[0m\u001b[0;34m)\u001b[0m\u001b[0;34m\u001b[0m\u001b[0m\n\u001b[0m\u001b[1;32m    384\u001b[0m       \u001b[0mnparray\u001b[0m \u001b[0;34m=\u001b[0m \u001b[0mnp\u001b[0m\u001b[0;34m.\u001b[0m\u001b[0marray\u001b[0m\u001b[0;34m(\u001b[0m\u001b[0mvalues\u001b[0m\u001b[0;34m,\u001b[0m \u001b[0mdtype\u001b[0m\u001b[0;34m=\u001b[0m\u001b[0mnp_dt\u001b[0m\u001b[0;34m)\u001b[0m\u001b[0;34m\u001b[0m\u001b[0m\n\u001b[1;32m    385\u001b[0m       \u001b[0;31m# check to them.\u001b[0m\u001b[0;34m\u001b[0m\u001b[0;34m\u001b[0m\u001b[0m\n",
      "\u001b[0;32m/local-scratch/anaconda2/envs/mayavi/lib/python2.7/site-packages/tensorflow/python/framework/tensor_util.pyc\u001b[0m in \u001b[0;36m_AssertCompatible\u001b[0;34m(values, dtype)\u001b[0m\n\u001b[1;32m    301\u001b[0m     \u001b[0;32melse\u001b[0m\u001b[0;34m:\u001b[0m\u001b[0;34m\u001b[0m\u001b[0m\n\u001b[1;32m    302\u001b[0m       raise TypeError(\"Expected %s, got %s of type '%s' instead.\" %\n\u001b[0;32m--> 303\u001b[0;31m                       (dtype.name, repr(mismatch), type(mismatch).__name__))\n\u001b[0m\u001b[1;32m    304\u001b[0m \u001b[0;34m\u001b[0m\u001b[0m\n\u001b[1;32m    305\u001b[0m \u001b[0;34m\u001b[0m\u001b[0m\n",
      "\u001b[0;31mTypeError\u001b[0m: Expected int32, got list containing Tensors of type '_Message' instead."
     ],
     "output_type": "error"
    }
   ],
   "source": [
    "bboxes1 = tf.placeholder(tf.float32)\n",
    "bboxes2 = tf.placeholder(tf.float32)\n",
    "\n",
    "# overlap_op = iou_with_mse(bboxes1, bboxes2)\n",
    "\n",
    "overlap_op = bbox_iou_masks(bboxes1, bboxes2)\n",
    "\n",
    "bboxes1_vals = np.array([10, 30, 10, 30, 10, 30])\n",
    "bboxes2_vals = np.array([20, 40, 20, 40, 20, 40])\n",
    "\n",
    "with tf.Session() as sess:\n",
    "    # take care of the data shape that this expects. Notice the [] around. \n",
    "    overlap = sess.run(overlap_op, feed_dict={\n",
    "        bboxes1: np.array([bboxes1_vals]),\n",
    "        bboxes2: np.array([bboxes2_vals]),\n",
    "    })\n",
    "\n",
    "    print('Weighted-IOU {}'.format(overlap[0]))\n",
    "    print('Unweighted-IOU {}'.format(overlap[-1]))\n",
    "    print('MAE {}'.format(overlap[1]))\n",
    "    print('Intersection {}'.format(overlap[2]))\n",
    "    print('Union {}'.format(overlap[3]))\n",
    "    \n",
    "seg = np.zeros((240, 240, 155))\n",
    "# ra = np.array([10, 30, 10, 30, 10, 30])\n",
    "# rb = np.array([20, 40, 20, 40, 20, 40])\n",
    "\n",
    "\n",
    "dense_bbox_orig = createDense(np.array(bboxes1_vals), seg)\n",
    "dense_bbox_pred = createDense(np.array(bboxes2_vals), seg)\n",
    "\n",
    "# start the visualization process\n",
    "mfig = mlab.figure() # size=(1024, 1024)\n",
    "\n",
    "mlab.contour3d(dense_bbox_orig, opacity=0.5, color=(0,1,0), transparent=True)\n",
    "mlab.axes()\n",
    "mlab.contour3d(dense_bbox_pred, opacity=0.1, color=(1,0,1), transparent=True)\n",
    "mlab.axes()\n",
    "mlab.show()"
   ]
  },
  {
   "cell_type": "code",
   "execution_count": 40,
   "metadata": {},
   "outputs": [
    {
     "data": {
      "text/plain": [
       "[10, 30, 10, 30, 10, 30]"
      ]
     },
     "execution_count": 40,
     "metadata": {},
     "output_type": "execute_result"
    }
   ],
   "source": [
    "bboxes1_vals[0]"
   ]
  },
  {
   "cell_type": "code",
   "execution_count": 37,
   "metadata": {},
   "outputs": [
    {
     "ename": "IndexError",
     "evalue": "list index out of range",
     "traceback": [
      "\u001b[0;31m---------------------------------------------------------------------------\u001b[0m",
      "\u001b[0;31mIndexError\u001b[0m                                Traceback (most recent call last)",
      "\u001b[0;32m<ipython-input-37-645a8c8b34b0>\u001b[0m in \u001b[0;36m<module>\u001b[0;34m()\u001b[0m\n\u001b[0;32m----> 1\u001b[0;31m \u001b[0mseg\u001b[0m\u001b[0;34m[\u001b[0m\u001b[0mbboxes1_vals\u001b[0m\u001b[0;34m[\u001b[0m\u001b[0;36m0\u001b[0m\u001b[0;34m]\u001b[0m\u001b[0;34m:\u001b[0m\u001b[0mbboxes1_vals\u001b[0m\u001b[0;34m[\u001b[0m\u001b[0;36m1\u001b[0m\u001b[0;34m]\u001b[0m\u001b[0;34m]\u001b[0m\u001b[0;34m\u001b[0m\u001b[0m\n\u001b[0m",
      "\u001b[0;31mIndexError\u001b[0m: list index out of range"
     ],
     "output_type": "error"
    }
   ],
   "source": [
    "seg[bboxes1_vals[0]:bboxes1_vals[1]]"
   ]
  },
  {
   "cell_type": "code",
   "execution_count": null,
   "metadata": {},
   "outputs": [],
   "source": []
  }
 ],
 "metadata": {
  "kernelspec": {
   "display_name": "Python 2",
   "language": "python",
   "name": "python2"
  },
  "language_info": {
   "codemirror_mode": {
    "name": "ipython",
    "version": 2
   },
   "file_extension": ".py",
   "mimetype": "text/x-python",
   "name": "python",
   "nbconvert_exporter": "python",
   "pygments_lexer": "ipython2",
   "version": "2.7.11"
  }
 },
 "nbformat": 4,
 "nbformat_minor": 2
}
