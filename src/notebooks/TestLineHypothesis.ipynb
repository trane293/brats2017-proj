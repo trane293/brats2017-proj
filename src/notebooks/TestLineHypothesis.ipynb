{
 "cells": [
  {
   "cell_type": "code",
   "execution_count": 30,
   "metadata": {},
   "outputs": [
    {
     "name": "stdout",
     "output_type": "stream",
     "text": [
      "Using matplotlib backend: TkAgg\n"
     ]
    }
   ],
   "source": [
    "from PIL import Image\n",
    "import matplotlib.pyplot as plt\n",
    "from networkx import DiGraph\n",
    "from scipy.ndimage.measurements import center_of_mass\n",
    "import numpy as np\n",
    "from scipy.ndimage.measurements import find_objects\n",
    "\n",
    "def prepImage(image='../test_cases/e2.png'):\n",
    "    img = Image.open(image).convert('L')\n",
    "    img = np.asarray(img)\n",
    "    img2 = np.copy(img)\n",
    "    \n",
    "    if 'e4' in image:\n",
    "        img2[np.where(img == 195)] = 0.0\n",
    "        img2[np.where(img == 229)] = 3.0\n",
    "        img2[np.where(img == 37)] = 2.0\n",
    "        img2[np.where(img == 100)] = 1.0\n",
    "        \n",
    "        return img2\n",
    "    else:\n",
    "        img2[np.where(np.logical_and(np.greater(img,0),np.less_equal(img,168)))] = 1.0\n",
    "        img2[np.where(img == 255)] = 2.0\n",
    "    \n",
    "    return img2\n",
    "\n",
    "class Formatter(object):\n",
    "    '''\n",
    "    Use like:\n",
    "        fig, ax = plt.subplots()\n",
    "        im = ax.imshow(img, cmap='gray')\n",
    "        ax.format_coord = Formatter(im)\n",
    "    '''\n",
    "    %matplotlib\n",
    "    def __init__(self, im):\n",
    "        self.im = im\n",
    "    def __call__(self, x, y):\n",
    "        z = self.im.get_array()[int(y), int(x)]\n",
    "        return 'x={:.01f}, y={:.01f}, z={:.01f}'.format(x, y, z)\n",
    "    \n",
    "    "
   ]
  },
  {
   "cell_type": "code",
   "execution_count": 31,
   "metadata": {},
   "outputs": [],
   "source": [
    "img = prepImage(image='../test_cases/e4.png')\n",
    "fig, ax = plt.subplots()\n",
    "im = ax.imshow(img)\n",
    "ax.format_coord = Formatter(im)\n",
    "plt.show()"
   ]
  },
  {
   "cell_type": "markdown",
   "metadata": {},
   "source": [
    "# Check if the test cases are plausible or not"
   ]
  },
  {
   "cell_type": "code",
   "execution_count": 32,
   "metadata": {},
   "outputs": [],
   "source": [
    "testcase = np.array(\n",
    "    [[3,3,3,3],\n",
    "     [3,2,2,3],\n",
    "     [1,2,2,2],\n",
    "     [1,2,2,2],\n",
    "     [2,1,1,2],\n",
    "     [3,1,1,3],\n",
    "     [3,3,3,3]]\n",
    ")\n",
    "\n",
    "g = DiGraph()\n",
    "\n",
    "# self links\n",
    "g.add_edge(0,0)\n",
    "g.add_edge(1,1)\n",
    "g.add_edge(2,2)\n",
    "g.add_edge(3,3)\n",
    "\n",
    "g.add_edge(1,0)\n",
    "g.add_edge(1,3)\n",
    "g.add_edge(1,2)\n",
    "g.add_edge(2,0)\n",
    "g.add_edge(2,3)\n",
    "g.add_edge(3,0)\n",
    "plt.imshow(testcase)\n",
    "plt.show()"
   ]
  },
  {
   "cell_type": "code",
   "execution_count": 33,
   "metadata": {},
   "outputs": [],
   "source": [
    "from scipy.ndimage.measurements import find_objects"
   ]
  },
  {
   "cell_type": "code",
   "execution_count": 34,
   "metadata": {},
   "outputs": [],
   "source": [
    "testcase= img"
   ]
  },
  {
   "cell_type": "code",
   "execution_count": 35,
   "metadata": {},
   "outputs": [
    {
     "name": "stdout",
     "output_type": "stream",
     "text": [
      "(9, 17)\n",
      "Passed the down direction test!\n",
      "Passed the right direction test!\n",
      "Passed the up direction test!\n",
      "Passed the left direction test!\n"
     ]
    }
   ],
   "source": [
    "def maskExcept(im, e=1):\n",
    "    tm = np.array(im)\n",
    "    tm[np.where(tm != e)] = 0\n",
    "    return tm\n",
    "\n",
    "core = maskExcept(testcase, e=1) # get only the necrotic core\n",
    "\n",
    "if np.count_nonzero(core) == 0:\n",
    "    print('No necrotic core found, reverting to enhancing!')\n",
    "    core = maskExcept(testcase, e=2) # get the enhancing core\n",
    "    \n",
    "comr, comc = center_of_mass(core)\n",
    "comr = int(comr)\n",
    "comc = int(comc)\n",
    "print(comr, comc)\n",
    "\n",
    "names = {\n",
    "    1: 'necrotic',\n",
    "    2: 'enhancing',\n",
    "    3: 'edema'\n",
    "}\n",
    "\n",
    "# start the scanning process\n",
    "switch = []\n",
    "ranges = {'up': range(int(comr), -1, -1), \n",
    "          'down': range(int(comr), np.shape(testcase)[0], 1), \n",
    "          'left': range(int(comc), -1, -1), \n",
    "          'right': range(int(comc), np.shape(testcase)[1], 1)\n",
    "         }\n",
    "\n",
    "for direction in ranges:\n",
    "    prev = None\n",
    "    flag = 1\n",
    "    for coord in ranges[direction]:\n",
    "        if direction == 'up' or direction == 'down':\n",
    "            r = coord\n",
    "            c = comc\n",
    "        else:\n",
    "            r = comr\n",
    "            c = coord\n",
    "\n",
    "        if prev == None:\n",
    "            prev = testcase[r,c]\n",
    "        else:\n",
    "            if g.has_edge(prev, testcase[r,c]):\n",
    "                prev = testcase[r,c]\n",
    "                continue\n",
    "            else:\n",
    "                print('invalid!')\n",
    "                flag = -1\n",
    "                break\n",
    "            \n",
    "    if flag != -1:\n",
    "        print('Passed the {} direction test!'.format(direction))\n",
    "    else:\n",
    "        print('Failed the {} direction test!'.format(direction))"
   ]
  },
  {
   "cell_type": "code",
   "execution_count": null,
   "metadata": {},
   "outputs": [],
   "source": []
  },
  {
   "cell_type": "code",
   "execution_count": null,
   "metadata": {},
   "outputs": [],
   "source": []
  }
 ],
 "metadata": {
  "kernelspec": {
   "display_name": "Python 2",
   "language": "python",
   "name": "python2"
  },
  "language_info": {
   "codemirror_mode": {
    "name": "ipython",
    "version": 2
   },
   "file_extension": ".py",
   "mimetype": "text/x-python",
   "name": "python",
   "nbconvert_exporter": "python",
   "pygments_lexer": "ipython2",
   "version": "2.7.11"
  }
 },
 "nbformat": 4,
 "nbformat_minor": 2
}
