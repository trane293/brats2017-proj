{
 "cells": [
  {
   "cell_type": "markdown",
   "metadata": {},
   "source": [
    "# <span style='color:orange'> Test Performance of BRATS Model on Synthesized T2FLAIR Modality using T1 and T2 Sequences</span>"
   ]
  },
  {
   "cell_type": "code",
   "execution_count": 1,
   "metadata": {},
   "outputs": [
    {
     "name": "stderr",
     "output_type": "stream",
     "text": [
      "/home/anmol/.virtualenvs/brats/local/lib/python2.7/site-packages/h5py/__init__.py:36: FutureWarning: Conversion of the second argument of issubdtype from `float` to `np.floating` is deprecated. In future, it will be treated as `np.float64 == np.dtype(float).type`.\n",
      "  from ._conv import register_converters as _register_converters\n"
     ]
    }
   ],
   "source": [
    "import h5py\n",
    "import sys\n",
    "sys.path.append('..')\n",
    "from modules.configfile import config\n",
    "import matplotlib.pyplot as plt\n",
    "import cPickle as pickle\n",
    "import numpy as np\n",
    "import random\n",
    "from random import shuffle\n",
    "random.seed(1337)\n",
    "np.random.seed(1337)\n",
    "from modules.training_helpers import standardize\n",
    "from modules.vizhelpercode import viewArbitraryVolume\n",
    "\n",
    "# Threshold to use when converting prediction mask to binary\n",
    "THRESHOLD = 0.5\n"
   ]
  },
  {
   "cell_type": "markdown",
   "metadata": {},
   "source": [
    "# <span style='color:teal'> Helper Functions </span>"
   ]
  },
  {
   "cell_type": "markdown",
   "metadata": {},
   "source": [
    "# Function to load BRATS model for segmentation of the test_data patients"
   ]
  },
  {
   "cell_type": "code",
   "execution_count": 2,
   "metadata": {},
   "outputs": [],
   "source": [
    "def getBRATSModel():\n",
    "    import os\n",
    "    os.environ[\"KERAS_BACKEND\"] = \"tensorflow\"\n",
    "    from modules.training_helpers import standardize\n",
    "    from modules.vizhelpercode import viewArbitraryVolume\n",
    "    import importlib\n",
    "    \n",
    "    defmodelfile = 'isensee'\n",
    "    \n",
    "    model_name = '/home/anmol/mounts/cedar-rm/scratch/asa224/model-staging/isensee_da_noanneal64--0.64.h5'\n",
    "    \n",
    "    modeldefmodule = importlib.import_module('defmodel.' + defmodelfile, package=None)\n",
    "    custom_objs = modeldefmodule.custom_loss()\n",
    "    \n",
    "    model = modeldefmodule.open_model_with_hyper_and_history(name=model_name, custom_obj=custom_objs, load_model_only=True)\n",
    "    \n",
    "    return model"
   ]
  },
  {
   "cell_type": "markdown",
   "metadata": {},
   "source": [
    "### This function is for the phase where new prediction has to be performed using BRATS model, on a patient who's one or more modalities are synthesized"
   ]
  },
  {
   "cell_type": "code",
   "execution_count": 3,
   "metadata": {},
   "outputs": [],
   "source": [
    "def predictOnSynthesisExample(test_arr, model):\n",
    "    td_shape = test_arr.shape\n",
    "    \n",
    "    pat_volume = np.array(test_arr, copy=True)\n",
    "    print('Standardizing..')\n",
    "    pat_volume = standardize(pat_volume, applyToTest=mean_var)\n",
    "\n",
    "    curr_shape = list(pat_volume.shape)\n",
    "    curr_shape.insert(0, 1) # insert 1 at index 0 to make reshaping easy\n",
    "\n",
    "    pat_volume = pat_volume.reshape(curr_shape)\n",
    "\n",
    "    # SUPER HACK WAY TO CHANGE VOLUME COMPATIBILITY WITH ISENSEE MODEL. MAKE 155 = 160\n",
    "    new_pat_volume = np.zeros((1, 4, 240, 240, 160))\n",
    "    new_pat_volume[:, :, :, :, 0:155] = pat_volume\n",
    "\n",
    "    print('Starting prediction..')\n",
    "    # predict using the whole volume\n",
    "    pred = model.predict(new_pat_volume)\n",
    "    \n",
    "    # get back the main volume and strip the padding\n",
    "    pred = pred[:,:,:,:,0:155]\n",
    "\n",
    "    assert pred.shape == (1,3,240,240,155)\n",
    "    \n",
    "    return pred"
   ]
  },
  {
   "cell_type": "markdown",
   "metadata": {},
   "source": [
    "### Define Dice Coefficient in Numpy"
   ]
  },
  {
   "cell_type": "code",
   "execution_count": 4,
   "metadata": {},
   "outputs": [],
   "source": [
    "def dice(im1, im2, empty_score=1.0):\n",
    "    im1 = np.asarray(im1).astype(np.bool)\n",
    "    im2 = np.asarray(im2).astype(np.bool)\n",
    "\n",
    "    if im1.shape != im2.shape:\n",
    "        raise ValueError(\"Shape mismatch: im1 and im2 must have the same shape.\")\n",
    "\n",
    "    im_sum = im1.sum() + im2.sum()\n",
    "    if im_sum == 0:\n",
    "        return empty_score\n",
    "\n",
    "    # Compute Dice coefficient\n",
    "    intersection = np.logical_and(im1, im2)\n",
    "\n",
    "    return 2. * intersection.sum() / im_sum"
   ]
  },
  {
   "cell_type": "markdown",
   "metadata": {},
   "source": [
    "### Helper functions to get the exact modalities according to the loaded synthesis model"
   ]
  },
  {
   "cell_type": "code",
   "execution_count": 46,
   "metadata": {},
   "outputs": [],
   "source": [
    "def returnID(mod):\n",
    "    '''\n",
    "    if 't1.' \n",
    "        i = 0\n",
    "        seq_name = 't1'\n",
    "    elif 't2.' in imagefile:\n",
    "        i = 1\n",
    "        seq_name = 't2'\n",
    "    elif 't1ce.' in imagefile:\n",
    "        i = 2\n",
    "        seq_name = 't1ce'\n",
    "    elif 'flair.' in imagefile:\n",
    "        i = 3\n",
    "        seq_name = 'flair'\n",
    "    '''\n",
    "    if mod.lower() == 't1':\n",
    "        return 0\n",
    "    elif mod.lower() == 't2':\n",
    "        return 1\n",
    "    elif mod.lower() == 't1ce':\n",
    "        return 2\n",
    "    elif mod.lower() == 't2flair':\n",
    "        return 3\n",
    "    \n",
    "        \n",
    "def returnIDGeneric(mod):\n",
    "    if not type(mod) == list:\n",
    "        return returnID(mod)\n",
    "    else:\n",
    "        k = []\n",
    "        for mod_name in mod:\n",
    "            t = returnID(mod_name)\n",
    "            k.append(t)\n",
    "            print('i = {} for modality = {}'.format(t, mod_name))\n",
    "        return k\n",
    "            \n",
    "    \n",
    "def multiSwap(arr):\n",
    "    '''\n",
    "    Expects a single channel array of shape (240, 240, 155)\n",
    "    \n",
    "    Returns: Array of shape (155, 1, 240, 240)\n",
    "    '''\n",
    "    arr = np.swapaxes(arr, 2, 1)\n",
    "    arr = np.swapaxes(arr, 1, 0)\n",
    "    arr = arr.reshape(155,1,240,240)\n",
    "    return arr\n",
    "\n",
    "def invertShape(arr):\n",
    "    '''\n",
    "    Expects a single channel array of shape (155, 1, 240, 240)\n",
    "    \n",
    "    Returns: Array of shape (1, 240, 240, 155)\n",
    "    '''\n",
    "    # squeeze out the 1 from axis=1\n",
    "    arr = np.squeeze(arr, axis=1)\n",
    "    \n",
    "    arr = np.swapaxes(arr, 0, 1)\n",
    "    arr = np.swapaxes(arr, 1, 2)\n",
    "    arr = arr.reshape(1, 240, 240, 155)\n",
    "    return arr\n",
    "\n",
    "def apply_mean_std(im, mean_var):\n",
    "    # expects a dictionary of means and VARIANCES, NOT STD\n",
    "    for m in range(0,4):\n",
    "        if len(np.shape(m)) > 4:\n",
    "            im[:,m,...] = (im[:,m,...] - mean_var['mn'][m]) / np.sqrt(mean_var['var'][m])\n",
    "        else:\n",
    "            im[m,...] = (im[m,...] - mean_var['mn'][m]) / np.sqrt(mean_var['var'][m])\n",
    "            \n",
    "    return im\n",
    "\n",
    "def getChannelWiseMasks(segmasks):\n",
    "    y_batch_channel_wise = np.zeros((segmasks.shape[0], config['num_labels'],\n",
    "                                                 segmasks.shape[1], segmasks.shape[2], segmasks.shape[3]))\n",
    "\n",
    "    labels = [1,2,4]\n",
    "\n",
    "    # save individual masks\n",
    "    # 1 = necrotic + non-enhancing\n",
    "    # 2 = edema\n",
    "    # 4 = enhancing\n",
    "\n",
    "    for idx, i in enumerate(labels):\n",
    "        # inside the channel 'i' in y_batch_channel_wise, set all voxels which have label 'i' equal to 'i'.\n",
    "        # in the zeroth channel, find the voxels which are 1, and set all those corresponding voxels as 1\n",
    "        # there's no seperate  channel  for background class.\n",
    "        y_batch_channel_wise[:, idx, ...][np.where(segmasks == i)] = 1\n",
    "        \n",
    "    return y_batch_channel_wise\n",
    "\n",
    "def getBRATSBenchmarkMasks(segmasks, ground_truth=True):\n",
    "    y_batch_channel_wise = np.zeros((segmasks.shape[0], config['num_labels'],\n",
    "                                                 segmasks.shape[2], segmasks.shape[3], segmasks.shape[4]))\n",
    "\n",
    "    labels = [1,2,4]\n",
    "    \n",
    "    # create a copy to avoid in place changes\n",
    "    segmasks_temp = np.array(segmasks, copy=True)\n",
    "    \n",
    "    # save individual masks\n",
    "    # 1 = necrotic + non-enhancing\n",
    "    # 2 = edema\n",
    "    # 4 = enhancing\n",
    "    if ground_truth == False:\n",
    "        # threshold the masks\n",
    "        segmasks_temp = segmasks_temp > THRESHOLD\n",
    "\n",
    "        # convert to binary mask with 0 and 1\n",
    "        segmasks_temp = segmasks_temp.astype(np.uint16)\n",
    "        \n",
    "\n",
    "    whole_tumor_mask = segmasks_temp[:,0] + \\\n",
    "                segmasks_temp[:,1] + \\\n",
    "                segmasks_temp[:,2]\n",
    "\n",
    "    tumor_core_mask = segmasks_temp[:,0] + \\\n",
    "                    segmasks_temp[:,2]\n",
    "\n",
    "    enhancing_mask = segmasks_temp[:,2]\n",
    "    \n",
    "    y_batch_channel_wise[:,0] = whole_tumor_mask\n",
    "    y_batch_channel_wise[:,1] = tumor_core_mask\n",
    "    y_batch_channel_wise[:,2] = enhancing_mask\n",
    "\n",
    "    return y_batch_channel_wise"
   ]
  },
  {
   "cell_type": "markdown",
   "metadata": {},
   "source": [
    "## Open mean and variance file"
   ]
  },
  {
   "cell_type": "code",
   "execution_count": 6,
   "metadata": {},
   "outputs": [],
   "source": [
    "mean_var = pickle.load(open(config['saveMeanVarCombinedData'], 'rb'))"
   ]
  },
  {
   "cell_type": "code",
   "execution_count": 7,
   "metadata": {},
   "outputs": [
    {
     "data": {
      "text/plain": [
       "{'mn': [101.05125, 104.49648, 111.35362, 70.27612],\n",
       " 'var': [299264.5, 362103.22, 317921.5, 319424.38]}"
      ]
     },
     "execution_count": 7,
     "metadata": {},
     "output_type": "execute_result"
    }
   ],
   "source": [
    "mean_var"
   ]
  },
  {
   "cell_type": "markdown",
   "metadata": {},
   "source": [
    "## Open new database with cropped images"
   ]
  },
  {
   "cell_type": "code",
   "execution_count": 8,
   "metadata": {},
   "outputs": [],
   "source": [
    "hdf5_file = h5py.File(config['hdf5_combined'], mode='r')"
   ]
  },
  {
   "cell_type": "code",
   "execution_count": 9,
   "metadata": {},
   "outputs": [],
   "source": [
    "hdf5_file_g = hdf5_file['combined']"
   ]
  },
  {
   "cell_type": "code",
   "execution_count": 10,
   "metadata": {},
   "outputs": [
    {
     "data": {
      "text/plain": [
       "(285, 4, 240, 240, 155)"
      ]
     },
     "execution_count": 10,
     "metadata": {},
     "output_type": "execute_result"
    }
   ],
   "source": [
    "hdf5_file_g['training_data'].shape"
   ]
  },
  {
   "cell_type": "markdown",
   "metadata": {},
   "source": [
    "## Generate random access order"
   ]
  },
  {
   "cell_type": "code",
   "execution_count": 11,
   "metadata": {},
   "outputs": [],
   "source": [
    "indices = list(range(0, hdf5_file_g['training_data'].shape[0]))\n",
    "shuffle(indices)"
   ]
  },
  {
   "cell_type": "markdown",
   "metadata": {},
   "source": [
    "## Split indices into training and testing"
   ]
  },
  {
   "cell_type": "code",
   "execution_count": 12,
   "metadata": {},
   "outputs": [],
   "source": [
    "train_end = int((len(indices) * config['data_split']['train']) / 100.0)\n",
    "train_indices = indices[0:train_end]\n",
    "test_indices = indices[train_end:]"
   ]
  },
  {
   "cell_type": "code",
   "execution_count": 13,
   "metadata": {},
   "outputs": [
    {
     "data": {
      "text/plain": [
       "[277, 67, 207, 140, 148]"
      ]
     },
     "execution_count": 13,
     "metadata": {},
     "output_type": "execute_result"
    }
   ],
   "source": [
    "train_indices[0:5]"
   ]
  },
  {
   "cell_type": "markdown",
   "metadata": {},
   "source": [
    "#### In the train_seg.py, this is the original indices:\n",
    "\n",
    "[255, 219, 107, 230, 46, 165, 103, 151, 176]"
   ]
  },
  {
   "cell_type": "code",
   "execution_count": 14,
   "metadata": {},
   "outputs": [
    {
     "data": {
      "text/plain": [
       "[255, 219, 107, 230, 46, 165, 103, 151, 176]"
      ]
     },
     "execution_count": 14,
     "metadata": {},
     "output_type": "execute_result"
    }
   ],
   "source": [
    "test_indices"
   ]
  },
  {
   "cell_type": "markdown",
   "metadata": {},
   "source": [
    "# Create a test set which is independent of any patient that was used in multimodal-synthesis model training as well as for BRATS model"
   ]
  },
  {
   "cell_type": "markdown",
   "metadata": {},
   "source": [
    "The multimodal-synthesis model was trained with indices 0-54 from the Combined HDF5 file. Do not use any data from this range as your test data. "
   ]
  },
  {
   "cell_type": "code",
   "execution_count": 15,
   "metadata": {},
   "outputs": [],
   "source": [
    "new_test_ind = [x for x in test_indices if x > 54]"
   ]
  },
  {
   "cell_type": "code",
   "execution_count": 16,
   "metadata": {},
   "outputs": [
    {
     "data": {
      "text/plain": [
       "[255, 219, 107, 230, 165, 103, 151, 176]"
      ]
     },
     "execution_count": 16,
     "metadata": {},
     "output_type": "execute_result"
    }
   ],
   "source": [
    "new_test_ind"
   ]
  },
  {
   "cell_type": "markdown",
   "metadata": {},
   "source": [
    "### test_data contains the test set which neither multimodal-synthesis model not BRATS model has seen. So it will be a fair comparison"
   ]
  },
  {
   "cell_type": "code",
   "execution_count": 17,
   "metadata": {},
   "outputs": [],
   "source": [
    "test_data = hdf5_file_g['training_data'][sorted(new_test_ind)]\n",
    "test_data_masks = hdf5_file_g['training_data_segmasks'][sorted(new_test_ind)]"
   ]
  },
  {
   "cell_type": "code",
   "execution_count": 18,
   "metadata": {},
   "outputs": [
    {
     "data": {
      "text/plain": [
       "(8, 4, 240, 240, 155)"
      ]
     },
     "execution_count": 18,
     "metadata": {},
     "output_type": "execute_result"
    }
   ],
   "source": [
    "test_data.shape"
   ]
  },
  {
   "cell_type": "code",
   "execution_count": 19,
   "metadata": {},
   "outputs": [
    {
     "data": {
      "text/plain": [
       "(8, 240, 240, 155)"
      ]
     },
     "execution_count": 19,
     "metadata": {},
     "output_type": "execute_result"
    }
   ],
   "source": [
    "test_data_masks.shape"
   ]
  },
  {
   "cell_type": "markdown",
   "metadata": {},
   "source": [
    "### Get channel wise masks for calculation of dice coefficient"
   ]
  },
  {
   "cell_type": "code",
   "execution_count": 20,
   "metadata": {},
   "outputs": [],
   "source": [
    "test_data_masks_channel_wise = getChannelWiseMasks(test_data_masks)"
   ]
  },
  {
   "cell_type": "code",
   "execution_count": 21,
   "metadata": {},
   "outputs": [
    {
     "data": {
      "text/plain": [
       "(8, 3, 240, 240, 155)"
      ]
     },
     "execution_count": 21,
     "metadata": {},
     "output_type": "execute_result"
    }
   ],
   "source": [
    "test_data_masks_channel_wise.shape"
   ]
  },
  {
   "cell_type": "markdown",
   "metadata": {},
   "source": [
    "# <span style='color:blue'> Predict Segmentation Mask using BRATS Model using ALL ORIGINAL Available Modalities</span>"
   ]
  },
  {
   "cell_type": "markdown",
   "metadata": {},
   "source": [
    "## Start the prediction process"
   ]
  },
  {
   "cell_type": "code",
   "execution_count": null,
   "metadata": {},
   "outputs": [],
   "source": [
    "model = getBRATSModel()"
   ]
  },
  {
   "cell_type": "code",
   "execution_count": null,
   "metadata": {
    "scrolled": false
   },
   "outputs": [],
   "source": [
    "td_shape = test_data.shape\n",
    "test_data_pred = np.zeros((td_shape[0], 3, td_shape[2], td_shape[3], td_shape[4]))\n",
    "\n",
    "for i in range(0, test_data.shape[0]):\n",
    "    print('Patient {}'.format(i+1))\n",
    "    pat_volume = test_data[i]\n",
    "    print('Standardizing..')\n",
    "    pat_volume = standardize(pat_volume, applyToTest=mean_var)\n",
    "\n",
    "    curr_shape = list(pat_volume.shape)\n",
    "    curr_shape.insert(0, 1) # insert 1 at index 0 to make reshaping easy\n",
    "\n",
    "    pat_volume = pat_volume.reshape(curr_shape)\n",
    "\n",
    "    # SUPER HACK WAY TO CHANGE VOLUME COMPATIBILITY WITH ISENSEE MODEL. MAKE 155 = 160\n",
    "    new_pat_volume = np.zeros((1, 4, 240, 240, 160))\n",
    "    new_pat_volume[:, :, :, :, 0:155] = pat_volume\n",
    "\n",
    "    print('Starting prediction..')\n",
    "    # predict using the whole volume\n",
    "    pred = model.predict(new_pat_volume)\n",
    "\n",
    "    # get back the main volume and strip the padding\n",
    "    pred = pred[:,:,:,:,0:155]\n",
    "\n",
    "    assert pred.shape == (1,3,240,240,155)\n",
    "\n",
    "    print('Adding predicted volume to test_data_pred store..')\n",
    "    # we use the batch size = 1 for prediction, so the first one.\n",
    "    test_data_pred[i] = pred[0]\n",
    "    viewArbitraryVolume(test_data_pred[i], slice_idx=3)"
   ]
  },
  {
   "cell_type": "markdown",
   "metadata": {},
   "source": [
    "### Create masks according to BRATS benchmark"
   ]
  },
  {
   "cell_type": "markdown",
   "metadata": {},
   "source": [
    "1) the “whole” tumor region (including all four tumor struc- tures),\n",
    "2) the tumor “core” region (including all tumor structures ex- cept “edema”),\n",
    "3) and the “active” tumor region (only containing the “en- hancing core” structures that are unique to high-grade cases)."
   ]
  },
  {
   "cell_type": "code",
   "execution_count": null,
   "metadata": {},
   "outputs": [],
   "source": [
    "test_data_masks_channel_wise.shape"
   ]
  },
  {
   "cell_type": "code",
   "execution_count": null,
   "metadata": {},
   "outputs": [],
   "source": [
    "test_data_pred_BRATS = getBRATSBenchmarkMasks(test_data_pred, ground_truth=False)\n",
    "test_data_masks_channel_wise_BRATS = getBRATSBenchmarkMasks(test_data_masks_channel_wise, ground_truth=True)"
   ]
  },
  {
   "cell_type": "code",
   "execution_count": null,
   "metadata": {},
   "outputs": [],
   "source": [
    "viewArbitraryVolume(test_data_pred_BRATS[4], slice_idx=3)"
   ]
  },
  {
   "cell_type": "code",
   "execution_count": null,
   "metadata": {},
   "outputs": [],
   "source": [
    "new_test_ind"
   ]
  },
  {
   "cell_type": "markdown",
   "metadata": {},
   "source": [
    "## Calculate Dice Coeffcient for this original predictions against the masks"
   ]
  },
  {
   "cell_type": "code",
   "execution_count": null,
   "metadata": {},
   "outputs": [],
   "source": [
    "results_BRATS_original = {}\n",
    "dice_scores = {\n",
    "    'whole_tumor': 0,\n",
    "    'tumor_core': 1,\n",
    "    'enhancing': 2,\n",
    "    }\n",
    "\n",
    "for i, patid in enumerate(new_test_ind):\n",
    "    results_BRATS_original[str(patid)] = {}\n",
    "\n",
    "    for key, val in dice_scores.items():\n",
    "        # idx = 1 whole tumor\n",
    "        # idx = 2 tumor core\n",
    "        # idx = 3 enhancing\n",
    "\n",
    "        value = dice(test_data_pred_BRATS[i,val], test_data_masks_channel_wise_BRATS[i,val])\n",
    "        results_BRATS_original[str(patid)][key] = value"
   ]
  },
  {
   "cell_type": "code",
   "execution_count": null,
   "metadata": {},
   "outputs": [],
   "source": [
    "results_BRATS_original"
   ]
  },
  {
   "cell_type": "markdown",
   "metadata": {},
   "source": [
    "### Save test_data_pred numpy array\n",
    "\n",
    "This is the original set of predictions for 8 test patients using vanilla BRATS model and all ORIGINAL modalities in BRATS validation format (WT, TC, EN)"
   ]
  },
  {
   "cell_type": "code",
   "execution_count": null,
   "metadata": {},
   "outputs": [],
   "source": [
    "np.save(open('/home/anmol/mounts/cedar-rm/scratch/asa224/misc/ORIGINAL_PREDICTIONS.npz', 'wb'), test_data_pred_BRATS)"
   ]
  },
  {
   "cell_type": "code",
   "execution_count": null,
   "metadata": {},
   "outputs": [],
   "source": [
    "np.save(open('/home/anmol/mounts/cedar-rm/scratch/asa224/misc/TEST_GROUND_TRUTH.npz', 'wb'), test_data_masks_channel_wise_BRATS)"
   ]
  },
  {
   "cell_type": "markdown",
   "metadata": {},
   "source": [
    "# <span style='color:green'> Synthesize T2FLAIR Modality using T1 and T2 Modalities and a Pretrained Multimodal-Synthesis Model</span>"
   ]
  },
  {
   "cell_type": "markdown",
   "metadata": {},
   "source": [
    "# Load multimodal-synthesis model trained with T1-T2 as input and T2FLAIR as output"
   ]
  },
  {
   "cell_type": "code",
   "execution_count": 22,
   "metadata": {},
   "outputs": [],
   "source": [
    "import os\n",
    "os.environ[\"KERAS_BACKEND\"] = \"theano\""
   ]
  },
  {
   "cell_type": "code",
   "execution_count": 23,
   "metadata": {
    "scrolled": true
   },
   "outputs": [
    {
     "name": "stderr",
     "output_type": "stream",
     "text": [
      "Using Theano backend.\n",
      "WARNING:theano.tensor.blas:Using NumPy C-API based implementation for BLAS functions.\n",
      "../multimodal/model.py:5: UserWarning: \n",
      "This call to matplotlib.use() has no effect because the backend has already\n",
      "been chosen; matplotlib.use() must be called *before* pylab, matplotlib.pyplot,\n",
      "or matplotlib.backends is imported for the first time.\n",
      "\n",
      "The backend was *originally* set to 'module://ipykernel.pylab.backend_inline' by the following code:\n",
      "  File \"/usr/lib/python2.7/runpy.py\", line 174, in _run_module_as_main\n",
      "    \"__main__\", fname, loader, pkg_name)\n",
      "  File \"/usr/lib/python2.7/runpy.py\", line 72, in _run_code\n",
      "    exec code in run_globals\n",
      "  File \"/home/anmol/.virtualenvs/brats/lib/python2.7/site-packages/ipykernel_launcher.py\", line 16, in <module>\n",
      "    app.launch_new_instance()\n",
      "  File \"/home/anmol/.virtualenvs/brats/local/lib/python2.7/site-packages/traitlets/config/application.py\", line 658, in launch_instance\n",
      "    app.start()\n",
      "  File \"/home/anmol/.virtualenvs/brats/local/lib/python2.7/site-packages/ipykernel/kernelapp.py\", line 486, in start\n",
      "    self.io_loop.start()\n",
      "  File \"/home/anmol/.virtualenvs/brats/local/lib/python2.7/site-packages/tornado/ioloop.py\", line 1064, in start\n",
      "    handler_func(fd_obj, events)\n",
      "  File \"/home/anmol/.virtualenvs/brats/local/lib/python2.7/site-packages/tornado/stack_context.py\", line 276, in null_wrapper\n",
      "    return fn(*args, **kwargs)\n",
      "  File \"/home/anmol/.virtualenvs/brats/local/lib/python2.7/site-packages/zmq/eventloop/zmqstream.py\", line 450, in _handle_events\n",
      "    self._handle_recv()\n",
      "  File \"/home/anmol/.virtualenvs/brats/local/lib/python2.7/site-packages/zmq/eventloop/zmqstream.py\", line 480, in _handle_recv\n",
      "    self._run_callback(callback, msg)\n",
      "  File \"/home/anmol/.virtualenvs/brats/local/lib/python2.7/site-packages/zmq/eventloop/zmqstream.py\", line 432, in _run_callback\n",
      "    callback(*args, **kwargs)\n",
      "  File \"/home/anmol/.virtualenvs/brats/local/lib/python2.7/site-packages/tornado/stack_context.py\", line 276, in null_wrapper\n",
      "    return fn(*args, **kwargs)\n",
      "  File \"/home/anmol/.virtualenvs/brats/local/lib/python2.7/site-packages/ipykernel/kernelbase.py\", line 283, in dispatcher\n",
      "    return self.dispatch_shell(stream, msg)\n",
      "  File \"/home/anmol/.virtualenvs/brats/local/lib/python2.7/site-packages/ipykernel/kernelbase.py\", line 233, in dispatch_shell\n",
      "    handler(stream, idents, msg)\n",
      "  File \"/home/anmol/.virtualenvs/brats/local/lib/python2.7/site-packages/ipykernel/kernelbase.py\", line 399, in execute_request\n",
      "    user_expressions, allow_stdin)\n",
      "  File \"/home/anmol/.virtualenvs/brats/local/lib/python2.7/site-packages/ipykernel/ipkernel.py\", line 208, in do_execute\n",
      "    res = shell.run_cell(code, store_history=store_history, silent=silent)\n",
      "  File \"/home/anmol/.virtualenvs/brats/local/lib/python2.7/site-packages/ipykernel/zmqshell.py\", line 537, in run_cell\n",
      "    return super(ZMQInteractiveShell, self).run_cell(*args, **kwargs)\n",
      "  File \"/home/anmol/.virtualenvs/brats/local/lib/python2.7/site-packages/IPython/core/interactiveshell.py\", line 2724, in run_cell\n",
      "    self.events.trigger('post_run_cell')\n",
      "  File \"/home/anmol/.virtualenvs/brats/local/lib/python2.7/site-packages/IPython/core/events.py\", line 74, in trigger\n",
      "    func(*args, **kwargs)\n",
      "  File \"/home/anmol/.virtualenvs/brats/local/lib/python2.7/site-packages/ipykernel/pylab/backend_inline.py\", line 160, in configure_once\n",
      "    activate_matplotlib(backend)\n",
      "  File \"/home/anmol/.virtualenvs/brats/local/lib/python2.7/site-packages/IPython/core/pylabtools.py\", line 315, in activate_matplotlib\n",
      "    matplotlib.pyplot.switch_backend(backend)\n",
      "  File \"/home/anmol/.virtualenvs/brats/local/lib/python2.7/site-packages/matplotlib/pyplot.py\", line 231, in switch_backend\n",
      "    matplotlib.use(newbackend, warn=False, force=True)\n",
      "  File \"/home/anmol/.virtualenvs/brats/local/lib/python2.7/site-packages/matplotlib/__init__.py\", line 1410, in use\n",
      "    reload(sys.modules['matplotlib.backends'])\n",
      "  File \"/home/anmol/.virtualenvs/brats/local/lib/python2.7/site-packages/matplotlib/backends/__init__.py\", line 16, in <module>\n",
      "    line for line in traceback.format_stack()\n",
      "\n",
      "\n",
      "  matplotlib.use('Agg')\n"
     ]
    }
   ],
   "source": [
    "from multimodal.loader_multimodal import Data\n",
    "from multimodal.runner import Experiment\n",
    "from multimodal.model import Multimodel"
   ]
  },
  {
   "cell_type": "markdown",
   "metadata": {},
   "source": [
    "# Load the model and set it up"
   ]
  },
  {
   "cell_type": "code",
   "execution_count": 24,
   "metadata": {},
   "outputs": [],
   "source": [
    "# what modalities to finally load from the bigger model. Used in both model loading and data loading\n",
    "load_input_modalities = ['T1', 'T2']\n",
    "load_output_modalities = 'T2FLAIR'"
   ]
  },
  {
   "cell_type": "code",
   "execution_count": 25,
   "metadata": {
    "scrolled": true
   },
   "outputs": [
    {
     "name": "stdout",
     "output_type": "stream",
     "text": [
      "Loading partial model\n",
      "Creating experiment...\n",
      "Creating model...\n",
      "Channels: 1\n",
      "Latent dimensions: 16\n"
     ]
    },
    {
     "name": "stderr",
     "output_type": "stream",
     "text": [
      "../multimodal/model.py:79: UserWarning: The `merge` function is deprecated and will be removed after 08/2017. Use instead layers from `keras.layers.merge`, e.g. `add`, `concatenate`, etc.\n",
      "  skip = merge([act2, conv], mode='concat', concat_axis=1, name='enc_' + modality + '_skip1')\n",
      "/home/anmol/.virtualenvs/brats/local/lib/python2.7/site-packages/keras/legacy/layers.py:464: UserWarning: The `Merge` layer is deprecated and will be removed after 08/2017. Use instead layers from `keras.layers.merge`, e.g. `add`, `concatenate`, etc.\n",
      "  name=name)\n",
      "../multimodal/model.py:88: UserWarning: The `merge` function is deprecated and will be removed after 08/2017. Use instead layers from `keras.layers.merge`, e.g. `add`, `concatenate`, etc.\n",
      "  skip = merge([act1, conv], mode='concat', concat_axis=1, name='enc_' + modality + '_skip2')\n"
     ]
    },
    {
     "name": "stdout",
     "output_type": "stream",
     "text": [
      "Fuse latent representations using max\n"
     ]
    },
    {
     "name": "stderr",
     "output_type": "stream",
     "text": [
      "../multimodal/model.py:206: UserWarning: The `merge` function is deprecated and will be removed after 08/2017. Use instead layers from `keras.layers.merge`, e.g. `add`, `concatenate`, etc.\n",
      "  weighted_rep = merge(ind_emb, mode=cm, name='combined_em') if len(self.inputs) > 1 else ind_emb[0]\n",
      "../multimodal/model.py:104: UserWarning: The `merge` function is deprecated and will be removed after 08/2017. Use instead layers from `keras.layers.merge`, e.g. `add`, `concatenate`, etc.\n",
      "  skip = merge([inp, conv], mode='concat', concat_axis=1, name='dec_' + modality + '_skip1')\n",
      "../multimodal/model.py:107: UserWarning: The `merge` function is deprecated and will be removed after 08/2017. Use instead layers from `keras.layers.merge`, e.g. `add`, `concatenate`, etc.\n",
      "  skip = merge([skip, conv], mode='concat', concat_axis=1, name='dec_' + modality + '_skip2')\n",
      "../multimodal/model.py:109: UserWarning: Update your `Model` call to the Keras 2 API: `Model(outputs=Elemwise{m..., name=\"decoder_T2FLAIR\", inputs=/dec_T2FLA...)`\n",
      "  model = Model(input=inp, output=conv, name='decoder_' + modality)\n",
      "/home/anmol/.virtualenvs/brats/local/lib/python2.7/site-packages/keras/layers/core.py:642: UserWarning: `output_shape` argument not specified for layer em_0_dec_T2FLAIR and cannot be automatically inferred with the Theano backend. Defaulting to output shape `(None, 1, 240, 240)` (same as input shape). If the expected output shape is different, specify it via the `output_shape` argument.\n",
      "  .format(self.name, input_shape))\n",
      "/home/anmol/.virtualenvs/brats/local/lib/python2.7/site-packages/keras/layers/core.py:642: UserWarning: `output_shape` argument not specified for layer em_1_dec_T2FLAIR and cannot be automatically inferred with the Theano backend. Defaulting to output shape `(None, 1, 240, 240)` (same as input shape). If the expected output shape is different, specify it via the `output_shape` argument.\n",
      "  .format(self.name, input_shape))\n",
      "/home/anmol/.virtualenvs/brats/local/lib/python2.7/site-packages/keras/layers/core.py:642: UserWarning: `output_shape` argument not specified for layer em_2_dec_T2FLAIR and cannot be automatically inferred with the Theano backend. Defaulting to output shape `(None, 1, 240, 240)` (same as input shape). If the expected output shape is different, specify it via the `output_shape` argument.\n",
      "  .format(self.name, input_shape))\n",
      "/home/anmol/.virtualenvs/brats/local/lib/python2.7/site-packages/keras/layers/core.py:642: UserWarning: `output_shape` argument not specified for layer lambda_1 and cannot be automatically inferred with the Theano backend. Defaulting to output shape `(None, 16, 240, 240)` (same as input shape). If the expected output shape is different, specify it via the `output_shape` argument.\n",
      "  .format(self.name, input_shape))\n",
      "/home/anmol/.virtualenvs/brats/local/lib/python2.7/site-packages/keras/layers/core.py:642: UserWarning: `output_shape` argument not specified for layer lambda_2 and cannot be automatically inferred with the Theano backend. Defaulting to output shape `(None, 16, 240, 240)` (same as input shape). If the expected output shape is different, specify it via the `output_shape` argument.\n",
      "  .format(self.name, input_shape))\n",
      "/home/anmol/.virtualenvs/brats/local/lib/python2.7/site-packages/keras/layers/core.py:642: UserWarning: `output_shape` argument not specified for layer lambda_3 and cannot be automatically inferred with the Theano backend. Defaulting to output shape `(None, 16, 240, 240)` (same as input shape). If the expected output shape is different, specify it via the `output_shape` argument.\n",
      "  .format(self.name, input_shape))\n",
      "/home/anmol/.virtualenvs/brats/local/lib/python2.7/site-packages/keras/layers/core.py:642: UserWarning: `output_shape` argument not specified for layer lambda_4 and cannot be automatically inferred with the Theano backend. Defaulting to output shape `(None, 16, 240, 240)` (same as input shape). If the expected output shape is different, specify it via the `output_shape` argument.\n",
      "  .format(self.name, input_shape))\n",
      "../multimodal/model.py:123: UserWarning: The `merge` function is deprecated and will be removed after 08/2017. Use instead layers from `keras.layers.merge`, e.g. `add`, `concatenate`, etc.\n",
      "  concat_emb = merge(all_emb_flattened, mode='concat', concat_axis=1, name='em_concat')\n",
      "/home/anmol/.virtualenvs/brats/local/lib/python2.7/site-packages/keras/layers/core.py:642: UserWarning: `output_shape` argument not specified for layer lambda_5 and cannot be automatically inferred with the Theano backend. Defaulting to output shape `(None, 16, 240, 240)` (same as input shape). If the expected output shape is different, specify it via the `output_shape` argument.\n",
      "  .format(self.name, input_shape))\n",
      "/home/anmol/.virtualenvs/brats/local/lib/python2.7/site-packages/keras/layers/core.py:642: UserWarning: `output_shape` argument not specified for layer em_fused and cannot be automatically inferred with the Theano backend. Defaulting to output shape `(None, 16, 240, 240)` (same as input shape). If the expected output shape is different, specify it via the `output_shape` argument.\n",
      "  .format(self.name, input_shape))\n",
      "../multimodal/model.py:240: UserWarning: Update your `Model` call to the Keras 2 API: `Model(outputs=[em_0_dec_..., inputs=[/enc_T1_i...)`\n",
      "  self.model = Model(input=self.inputs, output=outputs)\n",
      "../multimodal/model.py:269: UserWarning: The `merge` function is deprecated and will be removed after 08/2017. Use instead layers from `keras.layers.merge`, e.g. `add`, `concatenate`, etc.\n",
      "  fused_emb = merge(ind_emb, mode=self.common_merge, name='fused_em')\n"
     ]
    },
    {
     "name": "stdout",
     "output_type": "stream",
     "text": [
      "making output: TensorType(float32, 4D) TensorType(float32, 4D) em_0_dec_T2FLAIR\n",
      "making output: TensorType(float32, 4D) TensorType(float32, 4D) em_1_dec_T2FLAIR\n",
      "making output: TensorType(float32, 4D) TensorType(float32, 4D) em_2_dec_T2FLAIR\n",
      "making output: em_concat TensorType(float32, 3D) em_concat\n",
      "all outputs:  ['em_0_dec_T2FLAIR', 'em_1_dec_T2FLAIR', 'em_2_dec_T2FLAIR', 'em_concat', 'em_fused']\n",
      "output dict:  {'em_concat': <function embedding_distance at 0x7fa418b12b90>, 'em_1_dec_T2FLAIR': <function mae at 0x7fa418b12c80>, 'em_2_dec_T2FLAIR': <function mae at 0x7fa418b12c80>, 'em_fused': <function embedding_distance at 0x7fa418b12b90>, 'em_0_dec_T2FLAIR': <function mae at 0x7fa418b12c80>}\n",
      "loss weights:  {'em_concat': 1.0, 'em_1_dec_T2FLAIR': 1.0, 'em_2_dec_T2FLAIR': 1.0, 'em_fused': 0.0, 'em_0_dec_T2FLAIR': 1.0}\n",
      "making output: TensorType(float32, 4D) TensorType(float32, 4D) em_0_dec_T2FLAIR\n",
      "making output: TensorType(float32, 4D) TensorType(float32, 4D) em_1_dec_T2FLAIR\n",
      "making output: TensorType(float32, 4D) TensorType(float32, 4D) em_2_dec_T2FLAIR\n"
     ]
    },
    {
     "name": "stderr",
     "output_type": "stream",
     "text": [
      "../multimodal/model.py:328: UserWarning: Update your `Model` call to the Keras 2 API: `Model(outputs=[em_0_dec_..., inputs=[/enc_T1_i...)`\n",
      "  model = Model(input=inputs, output=outputs)\n"
     ]
    }
   ],
   "source": [
    "print('Loading partial model')\n",
    "\n",
    "# =================================================================\n",
    "'''\n",
    "For more info, refer to runner.py and model.py\n",
    "'''\n",
    "# =================================================================\n",
    "orig_input_modalities = ['T1', 'T2']\n",
    "orig_output_weights = {'T2FLAIR': 1.0, 'concat': 1.0}\n",
    "orig_output_modalities = sorted([o for o in orig_output_weights if o != 'concat'])\n",
    "latent_dim = 16\n",
    "spatial_transformer = False\n",
    "common_merge = 'max'\n",
    "ind_outs = True\n",
    "fuse_outs = True\n",
    "model_path = '/home/anmol/mounts/cedar-rm/rrg_proj_dir/multimodal_brain_synthesis/RESULTS/split57_no_ST_LGG_only_T1_T2-T2FLAIR/'\n",
    "model_name = 'model'\n",
    "# =================================================================\n",
    "\n",
    "print('Creating experiment...')\n",
    "\n",
    "def create_model():\n",
    "    print('Creating model...')\n",
    "    chn = 1\n",
    "    print 'Channels: %d' % chn\n",
    "    mm = Multimodel(orig_input_modalities, orig_output_modalities, orig_output_weights, latent_dim, chn,\n",
    "                         spatial_transformer, common_merge, ind_outs, fuse_outs)\n",
    "    mm.build()\n",
    "    return mm\n",
    "\n",
    "# create the base model with all inputs/outputs\n",
    "mm = create_model()\n",
    "\n",
    "# load the weights\n",
    "mm.model.load_weights(os.path.join(model_path, model_name))\n",
    "\n",
    "# slice the model and get only the inputs/outputs we want.\n",
    "mm.model = mm.get_partial_model(load_input_modalities, load_output_modalities)"
   ]
  },
  {
   "cell_type": "markdown",
   "metadata": {},
   "source": [
    "# Load the data according to how multimodel expects it"
   ]
  },
  {
   "cell_type": "markdown",
   "metadata": {},
   "source": [
    "### Load each test patient, and predict the modality "
   ]
  },
  {
   "cell_type": "code",
   "execution_count": 47,
   "metadata": {},
   "outputs": [
    {
     "name": "stdout",
     "output_type": "stream",
     "text": [
      "Loading data...\n",
      "Patient 1\n",
      "Setting data up for prediction...\n",
      "i = 0 for modality = T1\n",
      "i = 1 for modality = T2\n",
      "Starting prediction process\n",
      "Prediction process finished!\n",
      "Saving the synthesized T2FLAIR volume using both T1 and T2\n",
      "Patient 2\n",
      "Setting data up for prediction...\n",
      "i = 0 for modality = T1\n",
      "i = 1 for modality = T2\n",
      "Starting prediction process\n",
      "Prediction process finished!\n",
      "Saving the synthesized T2FLAIR volume using both T1 and T2\n",
      "Patient 3\n",
      "Setting data up for prediction...\n",
      "i = 0 for modality = T1\n",
      "i = 1 for modality = T2\n",
      "Starting prediction process\n",
      "Prediction process finished!\n",
      "Saving the synthesized T2FLAIR volume using both T1 and T2\n",
      "Patient 4\n",
      "Setting data up for prediction...\n",
      "i = 0 for modality = T1\n",
      "i = 1 for modality = T2\n",
      "Starting prediction process\n",
      "Prediction process finished!\n",
      "Saving the synthesized T2FLAIR volume using both T1 and T2\n",
      "Patient 5\n",
      "Setting data up for prediction...\n",
      "i = 0 for modality = T1\n",
      "i = 1 for modality = T2\n",
      "Starting prediction process\n",
      "Prediction process finished!\n",
      "Saving the synthesized T2FLAIR volume using both T1 and T2\n",
      "Patient 6\n",
      "Setting data up for prediction...\n",
      "i = 0 for modality = T1\n",
      "i = 1 for modality = T2\n",
      "Starting prediction process\n",
      "Prediction process finished!\n",
      "Saving the synthesized T2FLAIR volume using both T1 and T2\n",
      "Patient 7\n",
      "Setting data up for prediction...\n",
      "i = 0 for modality = T1\n",
      "i = 1 for modality = T2\n",
      "Starting prediction process\n",
      "Prediction process finished!\n",
      "Saving the synthesized T2FLAIR volume using both T1 and T2\n",
      "Patient 8\n",
      "Setting data up for prediction...\n",
      "i = 0 for modality = T1\n",
      "i = 1 for modality = T2\n",
      "Starting prediction process\n",
      "Prediction process finished!\n",
      "Saving the synthesized T2FLAIR volume using both T1 and T2\n"
     ]
    }
   ],
   "source": [
    "print('Loading data...')\n",
    "td_shape = test_data.shape\n",
    "\n",
    "# create a major numpy array to hold all synthesized T2FLAIR volumes\n",
    "# shape = (8, 1, 240, 240, 155)\n",
    "preds = np.zeros((td_shape[0], 1, td_shape[2], td_shape[3], td_shape[4]))\n",
    "\n",
    "for k in range(test_data.shape[0]): # for each patient\n",
    "    print('Patient {}'.format(k+1))\n",
    "    \n",
    "    pat_volume = test_data[k]\n",
    "    # DO NOT STANDARDIZE, the Multimodal-synthesis model doesnt expect standardized volumes\n",
    "    print('Setting data up for prediction...')\n",
    "    temp = [multiSwap(pat_volume[i]) for i in returnIDGeneric(load_input_modalities)] # seprate out the channels\n",
    "    \n",
    "    print('Starting prediction process')\n",
    "    pred_temp = mm.model.predict(temp)\n",
    "    print('Prediction process finished!')\n",
    "    \n",
    "    print('Saving the synthesized T2FLAIR volume using both T1 and T2')\n",
    "    preds[k,] = invertShape(pred_temp[-1])"
   ]
  },
  {
   "cell_type": "code",
   "execution_count": 48,
   "metadata": {},
   "outputs": [],
   "source": [
    "# save the synthesized T2FLAIR modalities in the misc folder.\n",
    "np.save(open('/home/anmol/mounts/cedar-rm/scratch/asa224/misc/SYNTHESIZED_T2FLAIR.p', 'wb'), preds)"
   ]
  },
  {
   "cell_type": "markdown",
   "metadata": {},
   "source": [
    "### Helper function to view synthesized data"
   ]
  },
  {
   "cell_type": "code",
   "execution_count": null,
   "metadata": {},
   "outputs": [],
   "source": [
    "preds"
   ]
  },
  {
   "cell_type": "code",
   "execution_count": 53,
   "metadata": {},
   "outputs": [
    {
     "data": {
      "image/png": "[encoded data removed]",
      "text/plain": [
       "<Figure size 432x288 with 1 Axes>"
      ]
     },
     "metadata": {},
     "output_type": "display_data"
    },
    {
     "data": {
      "image/png": "[encoded data removed]",
      "text/plain": [
       "<Figure size 432x288 with 1 Axes>"
      ]
     },
     "metadata": {},
     "output_type": "display_data"
    },
    {
     "data": {
      "image/png": "[encoded data removed]",
      "text/plain": [
       "<Figure size 432x288 with 1 Axes>"
      ]
     },
     "metadata": {},
     "output_type": "display_data"
    },
    {
     "data": {
      "image/png": "[encoded data removed]",
      "text/plain": [
       "<Figure size 432x288 with 1 Axes>"
      ]
     },
     "metadata": {},
     "output_type": "display_data"
    },
    {
     "data": {
      "image/png": "[encoded data removed]",
      "text/plain": [
       "<Figure size 432x288 with 1 Axes>"
      ]
     },
     "metadata": {},
     "output_type": "display_data"
    },
    {
     "data": {
      "image/png": "[encoded data removed]",
      "text/plain": [
       "<Figure size 432x288 with 1 Axes>"
      ]
     },
     "metadata": {},
     "output_type": "display_data"
    },
    {
     "data": {
      "image/png": "[encoded data removed]",
      "text/plain": [
       "<Figure size 432x288 with 1 Axes>"
      ]
     },
     "metadata": {},
     "output_type": "display_data"
    },
    {
     "data": {
      "image/png": "[encoded data removed]",
      "text/plain": [
       "<Figure size 432x288 with 1 Axes>"
      ]
     },
     "metadata": {},
     "output_type": "display_data"
    },
    {
     "data": {
      "image/png": "[encoded data removed]",
      "text/plain": [
       "<Figure size 432x288 with 1 Axes>"
      ]
     },
     "metadata": {},
     "output_type": "display_data"
    },
    {
     "data": {
      "image/png": "[encoded data removed]",
      "text/plain": [
       "<Figure size 432x288 with 1 Axes>"
      ]
     },
     "metadata": {},
     "output_type": "display_data"
    }
   ],
   "source": [
    "for i in range(0, 150, 15):\n",
    "    plt.imshow(preds[1,0,:,:,i], cmap='gray')\n",
    "    plt.show()"
   ]
  },
  {
   "cell_type": "code",
   "execution_count": null,
   "metadata": {},
   "outputs": [],
   "source": [
    "test_vol = test_data[0]\n",
    "gt_flair = test_vol[3,]\n",
    "pred = preds[2]\n",
    "\n",
    "# swap the axes of gt_flair to match the shape of prediction\n",
    "gt_flair = multiSwap(gt_flair)\n",
    "\n",
    "# remove the dummy axis 1 from both arrays\n",
    "pred_final = np.squeeze(pred, axis=1)\n",
    "gt_flair_final = np.squeeze(gt_flair, axis=1)"
   ]
  },
  {
   "cell_type": "code",
   "execution_count": null,
   "metadata": {},
   "outputs": [],
   "source": [
    "viewCurrentVolume(pred_final)"
   ]
  },
  {
   "cell_type": "code",
   "execution_count": null,
   "metadata": {},
   "outputs": [],
   "source": [
    "viewCurrentVolume(gt_flair_final)"
   ]
  },
  {
   "cell_type": "markdown",
   "metadata": {},
   "source": [
    "# <span style='color:red'> Test Performance of BRATS Model on Synthesized T2FLAIR Modality using T1 and T2 Sequences</span>\n"
   ]
  },
  {
   "cell_type": "markdown",
   "metadata": {},
   "source": [
    "#### Switch all original T2FLAIR modalities from all patients to the ones that were synthesized"
   ]
  },
  {
   "cell_type": "code",
   "execution_count": null,
   "metadata": {},
   "outputs": [],
   "source": [
    "# open the original predictions\n",
    "\n",
    "# get the original test data\n",
    "\n",
    "# get the synthesized t2flair volumes\n",
    "\n",
    "# create copy of test data for future\n",
    "\n",
    "# set t2flair volumes in the copy of test_data to the synthesized versions\n",
    "\n",
    "# confirm shapes are correct for the BRATS model\n",
    "\n",
    "# perform prediction using BRATS model\n",
    "\n",
    "# save predictions in NPZ files\n",
    "\n",
    "# calculate dice coefficient on the predicted segmentation masks and ground truth, using \n",
    "# BRATS notation (WT, ENH, TC)"
   ]
  },
  {
   "cell_type": "markdown",
   "metadata": {},
   "source": [
    "# Create another test_vol with FLAIR replaced with the synthesized and NON-standardized version"
   ]
  },
  {
   "cell_type": "markdown",
   "metadata": {},
   "source": [
    "Standardization of the test volume will be done right before prediction"
   ]
  },
  {
   "cell_type": "code",
   "execution_count": null,
   "metadata": {
    "scrolled": true
   },
   "outputs": [],
   "source": [
    "pred_final_orignal_shape"
   ]
  },
  {
   "cell_type": "code",
   "execution_count": null,
   "metadata": {},
   "outputs": [],
   "source": [
    "test_vol_new = np.array(test_vol, copy=True)"
   ]
  },
  {
   "cell_type": "code",
   "execution_count": null,
   "metadata": {},
   "outputs": [],
   "source": [
    "test_vol_new[returnIDGeneric('t2flair'),...] = pred_final_orignal_shape"
   ]
  },
  {
   "cell_type": "code",
   "execution_count": null,
   "metadata": {},
   "outputs": [],
   "source": [
    "brats_model = getBRATSModel()"
   ]
  },
  {
   "cell_type": "code",
   "execution_count": null,
   "metadata": {},
   "outputs": [],
   "source": [
    "brats_model.summary()"
   ]
  },
  {
   "cell_type": "code",
   "execution_count": null,
   "metadata": {},
   "outputs": [],
   "source": [
    "test_vol_new.shape"
   ]
  },
  {
   "cell_type": "code",
   "execution_count": null,
   "metadata": {},
   "outputs": [],
   "source": [
    "pred = predictOnSynthesisExample(test_vol_new, brats_model)"
   ]
  },
  {
   "cell_type": "code",
   "execution_count": null,
   "metadata": {},
   "outputs": [],
   "source": [
    "# get back the main volume and strip the padding\n",
    "pred = pred[:,:,:,:,0:155]"
   ]
  },
  {
   "cell_type": "code",
   "execution_count": null,
   "metadata": {},
   "outputs": [],
   "source": [
    "pred.shape"
   ]
  },
  {
   "cell_type": "code",
   "execution_count": null,
   "metadata": {},
   "outputs": [],
   "source": [
    "viewArbitraryVolume(pred[0], slice_idx=3)"
   ]
  },
  {
   "cell_type": "code",
   "execution_count": null,
   "metadata": {},
   "outputs": [],
   "source": []
  }
 ],
 "metadata": {
  "kernelspec": {
   "display_name": "Python 2",
   "language": "python",
   "name": "python2"
  },
  "language_info": {
   "codemirror_mode": {
    "name": "ipython",
    "version": 2
   },
   "file_extension": ".py",
   "mimetype": "text/x-python",
   "name": "python",
   "nbconvert_exporter": "python",
   "pygments_lexer": "ipython2",
   "version": "2.7.12"
  }
 },
 "nbformat": 4,
 "nbformat_minor": 2
}
