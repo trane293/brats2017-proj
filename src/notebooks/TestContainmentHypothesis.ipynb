{
 "cells": [
  {
   "cell_type": "code",
   "execution_count": 41,
   "metadata": {},
   "outputs": [
    {
     "ename": "ImportError",
     "evalue": "No module named 'mayavi'",
     "output_type": "error",
     "traceback": [
      "\u001b[0;31m---------------------------------------------------------------------------\u001b[0m",
      "\u001b[0;31mImportError\u001b[0m                               Traceback (most recent call last)",
      "\u001b[0;32m<ipython-input-41-4816da7d4017>\u001b[0m in \u001b[0;36m<module>\u001b[0;34m()\u001b[0m\n\u001b[1;32m      4\u001b[0m \u001b[0;32mfrom\u001b[0m \u001b[0mmodules\u001b[0m\u001b[0;34m.\u001b[0m\u001b[0mconfigfile\u001b[0m \u001b[0;32mimport\u001b[0m \u001b[0mconfig\u001b[0m\u001b[0;34m\u001b[0m\u001b[0m\n\u001b[1;32m      5\u001b[0m \u001b[0;32mimport\u001b[0m \u001b[0mnumpy\u001b[0m \u001b[0;32mas\u001b[0m \u001b[0mnp\u001b[0m\u001b[0;34m\u001b[0m\u001b[0m\n\u001b[0;32m----> 6\u001b[0;31m \u001b[0;32mfrom\u001b[0m \u001b[0mmodules\u001b[0m\u001b[0;34m.\u001b[0m\u001b[0mvizhelpercode\u001b[0m \u001b[0;32mimport\u001b[0m \u001b[0mviewArbitraryVolume\u001b[0m\u001b[0;34m\u001b[0m\u001b[0m\n\u001b[0m",
      "\u001b[0;32m/mnt/F8B8C1DEB8C19C0E/ownCloud/anmol-work/projects/brats-proj/src/modules/vizhelpercode.py\u001b[0m in \u001b[0;36m<module>\u001b[0;34m()\u001b[0m\n\u001b[1;32m     25\u001b[0m \u001b[0;32mimport\u001b[0m \u001b[0mSimpleITK\u001b[0m \u001b[0;32mas\u001b[0m \u001b[0msitk\u001b[0m\u001b[0;34m\u001b[0m\u001b[0m\n\u001b[1;32m     26\u001b[0m \u001b[0;32mfrom\u001b[0m \u001b[0;34m.\u001b[0m\u001b[0mconfigfile\u001b[0m \u001b[0;32mimport\u001b[0m \u001b[0mconfig\u001b[0m\u001b[0;34m\u001b[0m\u001b[0m\n\u001b[0;32m---> 27\u001b[0;31m \u001b[0;32mfrom\u001b[0m \u001b[0mmayavi\u001b[0m \u001b[0;32mimport\u001b[0m \u001b[0mmlab\u001b[0m\u001b[0;34m\u001b[0m\u001b[0m\n\u001b[0m\u001b[1;32m     28\u001b[0m \u001b[0;32mimport\u001b[0m \u001b[0mnumpy\u001b[0m \u001b[0;32mas\u001b[0m \u001b[0mnp\u001b[0m\u001b[0;34m\u001b[0m\u001b[0m\n\u001b[1;32m     29\u001b[0m \u001b[0;34m\u001b[0m\u001b[0m\n",
      "\u001b[0;31mImportError\u001b[0m: No module named 'mayavi'"
     ]
    }
   ],
   "source": [
    "import h5py\n",
    "import sys\n",
    "sys.path.append('..')\n",
    "from modules.configfile import config\n",
    "import numpy as np\n",
    "from modules.vizhelpercode import viewArbitraryVolume"
   ]
  },
  {
   "cell_type": "code",
   "execution_count": 2,
   "metadata": {},
   "outputs": [],
   "source": [
    "hdf5_file = h5py.File(config['hdf5_filepath_prefix'], mode='r')"
   ]
  },
  {
   "cell_type": "code",
   "execution_count": 3,
   "metadata": {},
   "outputs": [],
   "source": [
    "hdf5_file_g = hdf5_file['original_data']"
   ]
  },
  {
   "cell_type": "code",
   "execution_count": 120,
   "metadata": {},
   "outputs": [],
   "source": [
    "masks = hdf5_file_g['training_data_segmasks_hgg']"
   ]
  },
  {
   "cell_type": "code",
   "execution_count": 121,
   "metadata": {},
   "outputs": [
    {
     "data": {
      "text/plain": [
       "<HDF5 dataset \"training_data_segmasks_hgg\": shape (210, 240, 240, 155), type \"<i2\">"
      ]
     },
     "execution_count": 121,
     "metadata": {},
     "output_type": "execute_result"
    }
   ],
   "source": [
    "masks"
   ]
  },
  {
   "cell_type": "code",
   "execution_count": 122,
   "metadata": {},
   "outputs": [],
   "source": [
    "image = masks[10]"
   ]
  },
  {
   "cell_type": "markdown",
   "metadata": {},
   "source": [
    "<img alt=\"\" height=\"279\" src=\"https://www.med.upenn.edu/sbia/assets/user-content/BRATS_tasks.png\" width=\"700\">"
   ]
  },
  {
   "cell_type": "markdown",
   "metadata": {},
   "source": [
    "The segmentations are combined to generate the final labels of the tumor sub-regions (Fig.D): edema (yellow), non-enhancing solid core (red), necrotic/cystic core (green), enhancing core (blue). (Figure taken from the BraTS IEEE TMI paper.)"
   ]
  },
  {
   "cell_type": "markdown",
   "metadata": {},
   "source": [
    "### However, in the segmentation mask, the encoding is this - "
   ]
  },
  {
   "cell_type": "markdown",
   "metadata": {},
   "source": [
    "    1 for necrosis\n",
    "    2 for edema\n",
    "    3 for non-enhancing tumor\n",
    "    4 for enhancing tumor\n",
    "    0 for everything else"
   ]
  },
  {
   "cell_type": "code",
   "execution_count": 123,
   "metadata": {},
   "outputs": [],
   "source": [
    "masks = {}\n",
    "bimg = np.zeros(np.shape(image))\n",
    "\n",
    "names = {1: 'necrotic',\n",
    "         2: 'edema',\n",
    "         3: 'non_enhancing',\n",
    "         4: 'enhancing'}\n",
    "\n",
    "for key, val in names.items():\n",
    "    tmp = np.copy(bimg)\n",
    "    tmp[np.where(image == key)] = 1\n",
    "    masks[val] = tmp\n"
   ]
  },
  {
   "cell_type": "code",
   "execution_count": 124,
   "metadata": {},
   "outputs": [],
   "source": [
    "new_masks = {}\n",
    "new_masks['necrotic'] = masks['necrotic']\n",
    "new_masks['enhancing'] = np.logical_or(masks['enhancing'], new_masks['necrotic'])\n",
    "new_masks['non_enhancing'] = np.logical_or(masks['non_enhancing'], new_masks['enhancing'])\n",
    "new_masks['edema'] = np.logical_or(masks['edema'], new_masks['non_enhancing'])"
   ]
  },
  {
   "cell_type": "code",
   "execution_count": 126,
   "metadata": {},
   "outputs": [
    {
     "data": {
      "image/png": "[encoded data removed]",
      "text/plain": [
       "<Figure size 432x288 with 2 Axes>"
      ]
     },
     "metadata": {},
     "output_type": "display_data"
    },
    {
     "data": {
      "image/png": "[encoded data removed]",
      "text/plain": [
       "<Figure size 432x288 with 2 Axes>"
      ]
     },
     "metadata": {},
     "output_type": "display_data"
    },
    {
     "data": {
      "image/png": "[encoded data removed]",
      "text/plain": [
       "<Figure size 432x288 with 2 Axes>"
      ]
     },
     "metadata": {},
     "output_type": "display_data"
    },
    {
     "data": {
      "image/png": "[encoded data removed]",
      "text/plain": [
       "<Figure size 432x288 with 2 Axes>"
      ]
     },
     "metadata": {},
     "output_type": "display_data"
    },
    {
     "data": {
      "image/png": "[encoded data removed]",
      "text/plain": [
       "<Figure size 432x288 with 2 Axes>"
      ]
     },
     "metadata": {},
     "output_type": "display_data"
    },
    {
     "data": {
      "image/png": "[encoded data removed]",
      "text/plain": [
       "<Figure size 432x288 with 2 Axes>"
      ]
     },
     "metadata": {},
     "output_type": "display_data"
    },
    {
     "data": {
      "image/png": "[encoded data removed]",
      "text/plain": [
       "<Figure size 432x288 with 2 Axes>"
      ]
     },
     "metadata": {},
     "output_type": "display_data"
    },
    {
     "data": {
      "image/png": "[encoded data removed]",
      "text/plain": [
       "<Figure size 432x288 with 2 Axes>"
      ]
     },
     "metadata": {},
     "output_type": "display_data"
    },
    {
     "data": {
      "image/png": "[encoded data removed]",
      "text/plain": [
       "<Figure size 432x288 with 2 Axes>"
      ]
     },
     "metadata": {},
     "output_type": "display_data"
    },
    {
     "data": {
      "image/png": "[encoded data removed]",
      "text/plain": [
       "<Figure size 432x288 with 2 Axes>"
      ]
     },
     "metadata": {},
     "output_type": "display_data"
    },
    {
     "data": {
      "image/png": "[encoded data removed]",
      "text/plain": [
       "<Figure size 432x288 with 2 Axes>"
      ]
     },
     "metadata": {},
     "output_type": "display_data"
    },
    {
     "data": {
      "image/png": "[encoded data removed]",
      "text/plain": [
       "<Figure size 432x288 with 2 Axes>"
      ]
     },
     "metadata": {},
     "output_type": "display_data"
    },
    {
     "data": {
      "image/png": "[encoded data removed]",
      "text/plain": [
       "<Figure size 432x288 with 2 Axes>"
      ]
     },
     "metadata": {},
     "output_type": "display_data"
    },
    {
     "data": {
      "image/png": "[encoded data removed]",
      "text/plain": [
       "<Figure size 432x288 with 2 Axes>"
      ]
     },
     "metadata": {},
     "output_type": "display_data"
    },
    {
     "data": {
      "image/png": "[encoded data removed]",
      "text/plain": [
       "<Figure size 432x288 with 2 Axes>"
      ]
     },
     "metadata": {},
     "output_type": "display_data"
    },
    {
     "data": {
      "image/png": "[encoded data removed]",
      "text/plain": [
       "<Figure size 432x288 with 2 Axes>"
      ]
     },
     "metadata": {},
     "output_type": "display_data"
    }
   ],
   "source": [
    "a = 'necrotic'\n",
    "b = 'enhancing'\n",
    "\n",
    "for i in range(0, 155, 10):\n",
    "    fig, ax = plt.subplots(1,2)\n",
    "    ax[0].imshow(new_masks[a][:,:,i])\n",
    "    ax[1].imshow(new_masks[b][:,:,i])\n",
    "    plt.show()"
   ]
  },
  {
   "cell_type": "markdown",
   "metadata": {},
   "source": [
    "<img alt=\"\" height=\"279\" src=\"Hypothesis.png\" width=\"700\">"
   ]
  },
  {
   "cell_type": "markdown",
   "metadata": {},
   "source": [
    "# Hypothesis"
   ]
  },
  {
   "cell_type": "markdown",
   "metadata": {},
   "source": [
    "```\n",
    "- Necrotic Core  (A) <INSIDE> Enhancing (B)\n",
    "- Enhancing (B) <INSIDE> Non-Enhancing (C)\n",
    "- Non-Enhancing (C) <INSIDE> Edema (D)\n",
    "```"
   ]
  },
  {
   "cell_type": "markdown",
   "metadata": {},
   "source": [
    "It might be a good idea to also check if:\n",
    "```\n",
    "- A <INSIDE> B\n",
    "- A <INSIDE> C\n",
    "- A <INSIDE> D\n",
    "\n",
    "- B <INSIDE> C\n",
    "- B <INSIDE> D\n",
    "\n",
    "- C <INSIDE> D\n",
    "```"
   ]
  },
  {
   "cell_type": "code",
   "execution_count": 116,
   "metadata": {},
   "outputs": [
    {
     "name": "stdout",
     "output_type": "stream",
     "text": [
      "B C\n",
      "enhancing non_enhancing\n",
      "B <INSIDE> C = 100.0\n",
      "\n",
      "B D\n",
      "enhancing edema\n",
      "B <INSIDE> D = 99.26463933691757\n",
      "\n",
      "C D\n",
      "non_enhancing edema\n",
      "C <INSIDE> D = 99.26463933691757\n",
      "\n",
      "A B\n",
      "necrotic enhancing\n",
      "A <INSIDE> B = 99.61314964157707\n",
      "\n",
      "A C\n",
      "necrotic non_enhancing\n",
      "A <INSIDE> C = 99.61314964157707\n",
      "\n",
      "A D\n",
      "necrotic edema\n",
      "A <INSIDE> D = 98.87778897849462\n",
      "\n"
     ]
    }
   ],
   "source": [
    "codenames = {\n",
    "    'A': 'necrotic',\n",
    "    'B': 'enhancing',\n",
    "    'C': 'non_enhancing',\n",
    "    'D': 'edema'\n",
    "}\n",
    "epsilon = 0.0001\n",
    "def checkInside(new_masks, row, col):\n",
    "    print(row, col)\n",
    "    getRowKey = codenames[row]\n",
    "    getColKey = codenames[col]\n",
    "    print(getRowKey, getColKey)\n",
    "    rowMask = new_masks[getRowKey]\n",
    "    colMask = new_masks[getColKey]\n",
    "    \n",
    "    # this can be generic, as x,y,z are just corrdinates\n",
    "    X = Y = 0\n",
    "    for x in range(0, np.shape(rowMask)[0]):\n",
    "        for y in range(0, np.shape(rowMask)[1]):\n",
    "            for z in range(0, np.shape(rowMask)[2]):\n",
    "                if rowMask[x,y,z] == 0 and colMask[x,y,z] > 0: # pixel is background in row and foreground in col\n",
    "                    X += 1\n",
    "                else:\n",
    "                    Y += 1\n",
    "    \n",
    "    return (float(Y) * 100.0) / (Y + X)\n",
    "                \n",
    "exp = {\n",
    "    'A': ['B', 'C', 'D'],\n",
    "    'B': ['C', 'D'], \n",
    "    'C': ['D']\n",
    "      }\n",
    "\n",
    "for row in exp:\n",
    "    for col in exp[row]:\n",
    "        perc = checkInside(new_masks, row, col)\n",
    "        print('{} <INSIDE> {} = {}'.format(row, col, perc))\n",
    "        print('')"
   ]
  },
  {
   "cell_type": "code",
   "execution_count": 94,
   "metadata": {},
   "outputs": [
    {
     "data": {
      "text/plain": [
       "array([1, 2])"
      ]
     },
     "execution_count": 94,
     "metadata": {},
     "output_type": "execute_result"
    }
   ],
   "source": [
    "np.nonzero(np.array([0,1,1]))[0]"
   ]
  },
  {
   "cell_type": "code",
   "execution_count": null,
   "metadata": {},
   "outputs": [],
   "source": []
  }
 ],
 "metadata": {
  "kernelspec": {
   "display_name": "Python 3",
   "language": "python",
   "name": "python3"
  },
  "language_info": {
   "codemirror_mode": {
    "name": "ipython",
    "version": 3
   },
   "file_extension": ".py",
   "mimetype": "text/x-python",
   "name": "python",
   "nbconvert_exporter": "python",
   "pygments_lexer": "ipython3",
   "version": "3.5.5"
  }
 },
 "nbformat": 4,
 "nbformat_minor": 2
}
