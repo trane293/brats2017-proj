{
 "cells": [
  {
   "cell_type": "markdown",
   "metadata": {},
   "source": [
    "# Visualize the bounding boxes from Model"
   ]
  },
  {
   "cell_type": "markdown",
   "metadata": {},
   "source": [
    "# REMOTE COMPUTER"
   ]
  },
  {
   "cell_type": "code",
   "execution_count": 1,
   "metadata": {},
   "outputs": [
    {
     "data": {
      "text/plain": [
       "<Option at 0x7f849cb2d248: --t/--type>"
      ]
     },
     "execution_count": 1,
     "metadata": {},
     "output_type": "execute_result"
    }
   ],
   "source": [
    "import sys\n",
    "sys.path.append('..')\n",
    "from modules.mischelpers import get_data_splits_bbox, open_hdf5, createDense\n",
    "from modules.configfile import config\n",
    "import importlib\n",
    "import optparse\n",
    "import os\n",
    "import logging\n",
    "from mayavi import mlab\n",
    "import numpy as np\n",
    "\n",
    "logging.basicConfig(level=logging.INFO)\n",
    "try:\n",
    "    logger = logging.getLogger(__file__.split('/')[-1])\n",
    "except:\n",
    "    logger = logging.getLogger(__name__)\n",
    "\n",
    "parser = optparse.OptionParser()\n",
    "parser.add_option('--dm', '--defmodelfile',\n",
    "                  dest=\"defmodelfile\",\n",
    "                  default=None,\n",
    "                  type='str'\n",
    "                  )\n",
    "parser.add_option('--i', '--in-name',\n",
    "                  dest=\"input_name\",\n",
    "                  default=None,\n",
    "                  type='str'\n",
    "                  )\n",
    "parser.add_option('--t', '--type',\n",
    "                  dest=\"type\",\n",
    "                  default=None,\n",
    "                  type='str'\n",
    "                  ) # either checkpoint or snapshot"
   ]
  },
  {
   "cell_type": "markdown",
   "metadata": {},
   "source": [
    "### Set arguments"
   ]
  },
  {
   "cell_type": "code",
   "execution_count": 2,
   "metadata": {},
   "outputs": [],
   "source": [
    "options, remainder = parser.parse_args(['--dm', 'cnn', '--i', 'original_tuning_dice.h501--0.00.h5', '--t', 'checkpoints'])"
   ]
  },
  {
   "cell_type": "code",
   "execution_count": 3,
   "metadata": {},
   "outputs": [
    {
     "name": "stderr",
     "output_type": "stream",
     "text": [
      "INFO:__main__:Name of input file: /local-scratch/cedar-rm/scratch/asa224/model-checkpoints/original_tuning_dice.h501--0.00.h5\n",
      "Using TensorFlow backend.\n",
      "INFO:cnn.pyc:Setting keras backend data format to \"channels_first\"\n"
     ]
    }
   ],
   "source": [
    "if options.input_name == None:\n",
    "    logger.info('No input name defined, using default values')\n",
    "    if options.type == 'snapshots':\n",
    "        options.input_name = '/local-scratch/cedar-rm/scratch/asa224/model-snapshots/model_default.h5'\n",
    "    else:\n",
    "        options.input_name = '/local-scratch/cedar-rm/scratch/asa224/model-checkpoints/model_default.h5'\n",
    "    logger.info('Name of input file: {}'.format(options.input_name))\n",
    "else:\n",
    "    if options.type == 'snapshots':\n",
    "        options.input_name = os.path.join('/local-scratch/cedar-rm/scratch/asa224/model-snapshots/', options.input_name)\n",
    "    else:\n",
    "        options.input_name = os.path.join('/local-scratch/cedar-rm/scratch/asa224/model-checkpoints/', options.input_name)\n",
    "    logger.info('Name of input file: {}'.format(options.input_name))\n",
    "\n",
    "if options.defmodelfile == None:\n",
    "    logger.info('No defmodel file name defined, using default model (cnn)')\n",
    "    options.defmodelfile = 'cnn'\n",
    "\n",
    "modeldefmodule = importlib.import_module('defmodel.' + options.defmodelfile, package=None)"
   ]
  },
  {
   "cell_type": "code",
   "execution_count": 4,
   "metadata": {},
   "outputs": [],
   "source": [
    "x_train, y_train, x_test, y_test = get_data_splits_bbox(config['hdf5_filepath_prefix'],\n",
    "                                                        train_start=0, train_end=190, test_start=190, test_end=None)"
   ]
  },
  {
   "cell_type": "markdown",
   "metadata": {},
   "source": [
    "Load the y_pred variable on local computer to start visualization"
   ]
  },
  {
   "cell_type": "code",
   "execution_count": 5,
   "metadata": {},
   "outputs": [],
   "source": [
    "y_pred = np.load(open('/local-scratch/cedar-rm/scratch/asa224/model-checkpoints/y_pred.npy', 'r'))"
   ]
  },
  {
   "cell_type": "code",
   "execution_count": 6,
   "metadata": {
    "scrolled": true
   },
   "outputs": [
    {
     "data": {
      "text/plain": [
       "array([[ -1.51396794e+11,   1.25387186e+11,  -4.67916841e+10,\n",
       "          8.79261696e+10,  -2.14184919e+10,   9.34011863e+10],\n",
       "       [ -1.36416715e+11,   1.12954319e+11,  -4.21589320e+10,\n",
       "          7.92078828e+10,  -1.92917176e+10,   8.41234842e+10],\n",
       "       [ -2.61060428e+11,   2.16307302e+11,  -8.08439316e+10,\n",
       "          1.51682253e+11,  -3.69366057e+10,   1.61233076e+11],\n",
       "       [ -1.78053169e+11,   1.47583894e+11,  -5.52360018e+10,\n",
       "          1.03437279e+11,  -2.52157952e+10,   1.10026047e+11],\n",
       "       [ -1.42638088e+11,   1.18143066e+11,  -4.41745736e+10,\n",
       "          8.28660367e+10,  -2.01822638e+10,   8.80596337e+10],\n",
       "       [ -2.15181328e+11,   1.78343166e+11,  -6.66850181e+10,\n",
       "          1.25010305e+11,  -3.04671293e+10,   1.32928954e+11],\n",
       "       [ -9.16650312e+10,   7.59635395e+10,  -2.84251361e+10,\n",
       "          5.32652442e+10,  -1.29778647e+10,   5.66572237e+10],\n",
       "       [ -8.73351414e+11,   7.24095795e+11,  -2.71122596e+11,\n",
       "          5.07653652e+11,  -1.23664515e+11,   5.40160786e+11],\n",
       "       [ -1.08115591e+11,   8.95304991e+10,  -3.34336041e+10,\n",
       "          6.28025385e+10,  -1.52770990e+10,   6.67062067e+10],\n",
       "       [ -1.52758436e+11,   1.26653800e+11,  -4.73883771e+10,\n",
       "          8.87818404e+10,  -2.16239657e+10,   9.44159212e+10],\n",
       "       [ -9.58372659e+10,   7.95273380e+10,  -2.97905664e+10,\n",
       "          5.57032202e+10,  -1.35886920e+10,   5.93120338e+10],\n",
       "       [ -1.77739006e+11,   1.47269108e+11,  -5.49806490e+10,\n",
       "          1.03204520e+11,  -2.51324109e+10,   1.09704110e+11],\n",
       "       [ -8.69337989e+10,   7.20861512e+10,  -2.69812818e+10,\n",
       "          5.05194824e+10,  -1.23218145e+10,   5.37682985e+10],\n",
       "       [ -1.20355791e+11,   9.96834918e+10,  -3.72617175e+10,\n",
       "          6.99159265e+10,  -1.70162022e+10,   7.43021363e+10],\n",
       "       [ -5.04706925e+11,   4.18039955e+11,  -1.56095644e+11,\n",
       "          2.93152031e+11,  -7.13433006e+10,   3.11537500e+11],\n",
       "       [ -1.26744019e+11,   1.04925823e+11,  -3.91775478e+10,\n",
       "          7.36061276e+10,  -1.79206226e+10,   7.81628867e+10],\n",
       "       [ -1.21688023e+11,   1.00775649e+11,  -3.76475116e+10,\n",
       "          7.06826895e+10,  -1.72043121e+10,   7.51077294e+10],\n",
       "       [ -1.24492636e+11,   1.03108878e+11,  -3.85214218e+10,\n",
       "          7.23106857e+10,  -1.76104161e+10,   7.68442614e+10],\n",
       "       [ -1.23764597e+11,   1.02474498e+11,  -3.82762353e+10,\n",
       "          7.18824735e+10,  -1.75010714e+10,   7.63433779e+10],\n",
       "       [ -1.13036665e+11,   9.36695890e+10,  -3.50302044e+10,\n",
       "          6.56744120e+10,  -1.59991501e+10,   6.98289521e+10]])"
      ]
     },
     "execution_count": 6,
     "metadata": {},
     "output_type": "execute_result"
    }
   ],
   "source": [
    "y_pred"
   ]
  },
  {
   "cell_type": "code",
   "execution_count": 7,
   "metadata": {},
   "outputs": [
    {
     "data": {
      "text/plain": [
       "(20, 6)"
      ]
     },
     "execution_count": 7,
     "metadata": {},
     "output_type": "execute_result"
    }
   ],
   "source": [
    "np.shape(y_pred)"
   ]
  },
  {
   "cell_type": "code",
   "execution_count": 8,
   "metadata": {},
   "outputs": [
    {
     "data": {
      "text/plain": [
       "577.67652179459094"
      ]
     },
     "execution_count": 8,
     "metadata": {},
     "output_type": "execute_result"
    }
   ],
   "source": [
    "((y_pred - y_test) ** 2).mean()"
   ]
  },
  {
   "cell_type": "markdown",
   "metadata": {},
   "source": [
    "# Visualize interactively in individual Mayavi windows"
   ]
  },
  {
   "cell_type": "code",
   "execution_count": 8,
   "metadata": {},
   "outputs": [
    {
     "ename": "ValueError",
     "evalue": "Index (210) out of range (0-209)",
     "traceback": [
      "\u001b[0;31m---------------------------------------------------------------------------\u001b[0m",
      "\u001b[0;31mValueError\u001b[0m                                Traceback (most recent call last)",
      "\u001b[0;32m<ipython-input-8-6ec3e802baf5>\u001b[0m in \u001b[0;36m<module>\u001b[0;34m()\u001b[0m\n\u001b[1;32m      5\u001b[0m \u001b[0;32mfor\u001b[0m \u001b[0mi\u001b[0m \u001b[0;32min\u001b[0m \u001b[0mrange\u001b[0m\u001b[0;34m(\u001b[0m\u001b[0;36m190\u001b[0m\u001b[0;34m,\u001b[0m \u001b[0;36m210\u001b[0m \u001b[0;34m+\u001b[0m \u001b[0;36m1\u001b[0m\u001b[0;34m)\u001b[0m\u001b[0;34m:\u001b[0m\u001b[0;34m\u001b[0m\u001b[0m\n\u001b[1;32m      6\u001b[0m     \u001b[0;31m# lets get a segmentation masks for the test data\u001b[0m\u001b[0;34m\u001b[0m\u001b[0;34m\u001b[0m\u001b[0m\n\u001b[0;32m----> 7\u001b[0;31m     \u001b[0mseg\u001b[0m \u001b[0;34m=\u001b[0m \u001b[0mhdf5_file\u001b[0m\u001b[0;34m[\u001b[0m\u001b[0;34m\"training_data_segmasks_hgg\"\u001b[0m\u001b[0;34m]\u001b[0m\u001b[0;34m[\u001b[0m\u001b[0mi\u001b[0m\u001b[0;34m]\u001b[0m\u001b[0;34m\u001b[0m\u001b[0m\n\u001b[0m\u001b[1;32m      8\u001b[0m \u001b[0;34m\u001b[0m\u001b[0m\n\u001b[1;32m      9\u001b[0m     \u001b[0;31m# let's get its bounding box\u001b[0m\u001b[0;34m\u001b[0m\u001b[0;34m\u001b[0m\u001b[0m\n",
      "\u001b[0;32mh5py/_objects.pyx\u001b[0m in \u001b[0;36mh5py._objects.with_phil.wrapper\u001b[0;34m()\u001b[0m\n",
      "\u001b[0;32mh5py/_objects.pyx\u001b[0m in \u001b[0;36mh5py._objects.with_phil.wrapper\u001b[0;34m()\u001b[0m\n",
      "\u001b[0;32m/local-scratch/anaconda2/envs/mayavi/lib/python2.7/site-packages/h5py/_hl/dataset.pyc\u001b[0m in \u001b[0;36m__getitem__\u001b[0;34m(self, args)\u001b[0m\n\u001b[1;32m    474\u001b[0m \u001b[0;34m\u001b[0m\u001b[0m\n\u001b[1;32m    475\u001b[0m         \u001b[0;31m# Perform the dataspace selection.\u001b[0m\u001b[0;34m\u001b[0m\u001b[0;34m\u001b[0m\u001b[0m\n\u001b[0;32m--> 476\u001b[0;31m         \u001b[0mselection\u001b[0m \u001b[0;34m=\u001b[0m \u001b[0msel\u001b[0m\u001b[0;34m.\u001b[0m\u001b[0mselect\u001b[0m\u001b[0;34m(\u001b[0m\u001b[0mself\u001b[0m\u001b[0;34m.\u001b[0m\u001b[0mshape\u001b[0m\u001b[0;34m,\u001b[0m \u001b[0margs\u001b[0m\u001b[0;34m,\u001b[0m \u001b[0mdsid\u001b[0m\u001b[0;34m=\u001b[0m\u001b[0mself\u001b[0m\u001b[0;34m.\u001b[0m\u001b[0mid\u001b[0m\u001b[0;34m)\u001b[0m\u001b[0;34m\u001b[0m\u001b[0m\n\u001b[0m\u001b[1;32m    477\u001b[0m \u001b[0;34m\u001b[0m\u001b[0m\n\u001b[1;32m    478\u001b[0m         \u001b[0;32mif\u001b[0m \u001b[0mselection\u001b[0m\u001b[0;34m.\u001b[0m\u001b[0mnselect\u001b[0m \u001b[0;34m==\u001b[0m \u001b[0;36m0\u001b[0m\u001b[0;34m:\u001b[0m\u001b[0;34m\u001b[0m\u001b[0m\n",
      "\u001b[0;32m/local-scratch/anaconda2/envs/mayavi/lib/python2.7/site-packages/h5py/_hl/selections.pyc\u001b[0m in \u001b[0;36mselect\u001b[0;34m(shape, args, dsid)\u001b[0m\n\u001b[1;32m     92\u001b[0m \u001b[0;34m\u001b[0m\u001b[0m\n\u001b[1;32m     93\u001b[0m     \u001b[0msel\u001b[0m \u001b[0;34m=\u001b[0m \u001b[0mSimpleSelection\u001b[0m\u001b[0;34m(\u001b[0m\u001b[0mshape\u001b[0m\u001b[0;34m)\u001b[0m\u001b[0;34m\u001b[0m\u001b[0m\n\u001b[0;32m---> 94\u001b[0;31m     \u001b[0msel\u001b[0m\u001b[0;34m[\u001b[0m\u001b[0margs\u001b[0m\u001b[0;34m]\u001b[0m\u001b[0;34m\u001b[0m\u001b[0m\n\u001b[0m\u001b[1;32m     95\u001b[0m     \u001b[0;32mreturn\u001b[0m \u001b[0msel\u001b[0m\u001b[0;34m\u001b[0m\u001b[0m\n\u001b[1;32m     96\u001b[0m \u001b[0;34m\u001b[0m\u001b[0m\n",
      "\u001b[0;32m/local-scratch/anaconda2/envs/mayavi/lib/python2.7/site-packages/h5py/_hl/selections.pyc\u001b[0m in \u001b[0;36m__getitem__\u001b[0;34m(self, args)\u001b[0m\n\u001b[1;32m    259\u001b[0m             \u001b[0;32mreturn\u001b[0m \u001b[0mself\u001b[0m\u001b[0;34m\u001b[0m\u001b[0m\n\u001b[1;32m    260\u001b[0m \u001b[0;34m\u001b[0m\u001b[0m\n\u001b[0;32m--> 261\u001b[0;31m         \u001b[0mstart\u001b[0m\u001b[0;34m,\u001b[0m \u001b[0mcount\u001b[0m\u001b[0;34m,\u001b[0m \u001b[0mstep\u001b[0m\u001b[0;34m,\u001b[0m \u001b[0mscalar\u001b[0m \u001b[0;34m=\u001b[0m \u001b[0m_handle_simple\u001b[0m\u001b[0;34m(\u001b[0m\u001b[0mself\u001b[0m\u001b[0;34m.\u001b[0m\u001b[0mshape\u001b[0m\u001b[0;34m,\u001b[0m\u001b[0margs\u001b[0m\u001b[0;34m)\u001b[0m\u001b[0;34m\u001b[0m\u001b[0m\n\u001b[0m\u001b[1;32m    262\u001b[0m \u001b[0;34m\u001b[0m\u001b[0m\n\u001b[1;32m    263\u001b[0m         \u001b[0mself\u001b[0m\u001b[0;34m.\u001b[0m\u001b[0m_id\u001b[0m\u001b[0;34m.\u001b[0m\u001b[0mselect_hyperslab\u001b[0m\u001b[0;34m(\u001b[0m\u001b[0mstart\u001b[0m\u001b[0;34m,\u001b[0m \u001b[0mcount\u001b[0m\u001b[0;34m,\u001b[0m \u001b[0mstep\u001b[0m\u001b[0;34m)\u001b[0m\u001b[0;34m\u001b[0m\u001b[0m\n",
      "\u001b[0;32m/local-scratch/anaconda2/envs/mayavi/lib/python2.7/site-packages/h5py/_hl/selections.pyc\u001b[0m in \u001b[0;36m_handle_simple\u001b[0;34m(shape, args)\u001b[0m\n\u001b[1;32m    449\u001b[0m         \u001b[0;32melse\u001b[0m\u001b[0;34m:\u001b[0m\u001b[0;34m\u001b[0m\u001b[0m\n\u001b[1;32m    450\u001b[0m             \u001b[0;32mtry\u001b[0m\u001b[0;34m:\u001b[0m\u001b[0;34m\u001b[0m\u001b[0m\n\u001b[0;32m--> 451\u001b[0;31m                 \u001b[0mx\u001b[0m\u001b[0;34m,\u001b[0m\u001b[0my\u001b[0m\u001b[0;34m,\u001b[0m\u001b[0mz\u001b[0m \u001b[0;34m=\u001b[0m \u001b[0m_translate_int\u001b[0m\u001b[0;34m(\u001b[0m\u001b[0mint\u001b[0m\u001b[0;34m(\u001b[0m\u001b[0marg\u001b[0m\u001b[0;34m)\u001b[0m\u001b[0;34m,\u001b[0m \u001b[0mlength\u001b[0m\u001b[0;34m)\u001b[0m\u001b[0;34m\u001b[0m\u001b[0m\n\u001b[0m\u001b[1;32m    452\u001b[0m                 \u001b[0ms\u001b[0m \u001b[0;34m=\u001b[0m \u001b[0mTrue\u001b[0m\u001b[0;34m\u001b[0m\u001b[0m\n\u001b[1;32m    453\u001b[0m             \u001b[0;32mexcept\u001b[0m \u001b[0mTypeError\u001b[0m\u001b[0;34m:\u001b[0m\u001b[0;34m\u001b[0m\u001b[0m\n",
      "\u001b[0;32m/local-scratch/anaconda2/envs/mayavi/lib/python2.7/site-packages/h5py/_hl/selections.pyc\u001b[0m in \u001b[0;36m_translate_int\u001b[0;34m(exp, length)\u001b[0m\n\u001b[1;32m    469\u001b[0m \u001b[0;34m\u001b[0m\u001b[0m\n\u001b[1;32m    470\u001b[0m     \u001b[0;32mif\u001b[0m \u001b[0;32mnot\u001b[0m \u001b[0;36m0\u001b[0m\u001b[0;34m<=\u001b[0m\u001b[0mexp\u001b[0m\u001b[0;34m<\u001b[0m\u001b[0mlength\u001b[0m\u001b[0;34m:\u001b[0m\u001b[0;34m\u001b[0m\u001b[0m\n\u001b[0;32m--> 471\u001b[0;31m         \u001b[0;32mraise\u001b[0m \u001b[0mValueError\u001b[0m\u001b[0;34m(\u001b[0m\u001b[0;34m\"Index (%s) out of range (0-%s)\"\u001b[0m \u001b[0;34m%\u001b[0m \u001b[0;34m(\u001b[0m\u001b[0mexp\u001b[0m\u001b[0;34m,\u001b[0m \u001b[0mlength\u001b[0m\u001b[0;34m-\u001b[0m\u001b[0;36m1\u001b[0m\u001b[0;34m)\u001b[0m\u001b[0;34m)\u001b[0m\u001b[0;34m\u001b[0m\u001b[0m\n\u001b[0m\u001b[1;32m    472\u001b[0m \u001b[0;34m\u001b[0m\u001b[0m\n\u001b[1;32m    473\u001b[0m     \u001b[0;32mreturn\u001b[0m \u001b[0mexp\u001b[0m\u001b[0;34m,\u001b[0m \u001b[0;36m1\u001b[0m\u001b[0;34m,\u001b[0m \u001b[0;36m1\u001b[0m\u001b[0;34m\u001b[0m\u001b[0m\n",
      "\u001b[0;31mValueError\u001b[0m: Index (210) out of range (0-209)"
     ],
     "output_type": "error"
    }
   ],
   "source": [
    "# start 3D visualization\n",
    "# open the dataset\n",
    "hdf5_file = open_hdf5()\n",
    "t = 0\n",
    "for i in range(190, 210):\n",
    "    # lets get a segmentation masks for the test data\n",
    "    seg = hdf5_file[\"training_data_segmasks_hgg\"][i]\n",
    "\n",
    "    # let's get its bounding box\n",
    "    bbox = hdf5_file[\"bounding_box_hgg\"][i]\n",
    "\n",
    "    dense_bbox_orig = createDense(bbox, seg)\n",
    "    dense_bbox_pred = createDense(y_pred[t].astype('int32'), seg)\n",
    "    \n",
    "    mlab.contour3d(seg, contours=[1])\n",
    "    mlab.contour3d(dense_bbox_orig, opacity=0.1, color=(1, 0, 0), transparent=True)\n",
    "    mlab.contour3d(dense_bbox_pred, opacity=0.1, color=(0, 1, 0), transparent=True)\n",
    "    mlab.show()\n",
    "    t += 1"
   ]
  },
  {
   "cell_type": "markdown",
   "metadata": {},
   "source": [
    "# Visualize in Matplotlib using subplots and screenshots of 3D scenes"
   ]
  },
  {
   "cell_type": "code",
   "execution_count": 9,
   "metadata": {},
   "outputs": [
    {
     "name": "stdout",
     "output_type": "stream",
     "text": [
      "Using matplotlib backend: Qt4Agg\n"
     ]
    },
    {
     "name": "stderr",
     "output_type": "stream",
     "text": [
      "INFO:__main__:.\n",
      "INFO:__main__:.\n",
      "INFO:__main__:.\n",
      "INFO:__main__:.\n",
      "INFO:__main__:.\n",
      "INFO:__main__:.\n",
      "INFO:__main__:.\n",
      "INFO:__main__:.\n",
      "INFO:__main__:.\n",
      "INFO:__main__:.\n",
      "INFO:__main__:.\n",
      "INFO:__main__:.\n",
      "INFO:__main__:.\n",
      "INFO:__main__:.\n",
      "INFO:__main__:.\n",
      "INFO:__main__:.\n",
      "INFO:__main__:.\n",
      "INFO:__main__:.\n",
      "INFO:__main__:.\n",
      "INFO:__main__:.\n"
     ]
    }
   ],
   "source": [
    "# start 3D visualization\n",
    "import matplotlib.pyplot as plt\n",
    "%matplotlib\n",
    "# open the dataset\n",
    "hdf5_file = open_hdf5()\n",
    "t = 0\n",
    "start_test = 190\n",
    "end_test= 210\n",
    "\n",
    "num_subplots = end_test - start_test - 1\n",
    "\n",
    "fig, ax = plt.subplots(nrows=5, ncols=4, sharex=False, sharey=False, squeeze=False, figsize=(50, 30))\n",
    "\n",
    "ax = [i for ls in ax for i in ls]\n",
    "\n",
    "for i in range(start_test, end_test):\n",
    "    # lets get a segmentation masks for the test data\n",
    "    seg = hdf5_file[\"training_data_segmasks_hgg\"][i]\n",
    "    pat_name = hdf5_file[\"training_data_hgg_pat_name\"][i]\n",
    "    \n",
    "    # let's get its bounding box\n",
    "    bbox = hdf5_file[\"bounding_box_hgg\"][i]\n",
    "\n",
    "    dense_bbox_orig = createDense(bbox, seg)\n",
    "    dense_bbox_pred = createDense(y_pred[t].astype('int32'), seg)\n",
    "    \n",
    "    # start the visualization process\n",
    "    mfig = mlab.figure() # size=(1024, 1024)\n",
    "    \n",
    "    mlab.contour3d(seg, contours=[1])\n",
    "    mlab.contour3d(dense_bbox_orig, opacity=0.1, color=(1, 0, 0), transparent=True)\n",
    "    mlab.contour3d(dense_bbox_pred, opacity=0.1, color=(0, 1, 0), transparent=True)\n",
    "    \n",
    "    comparison = mlab.screenshot(figure=mfig, mode='rgba', antialiased=True)\n",
    "    mlab.clf(mfig)\n",
    "    mlab.close()\n",
    "\n",
    "    # Then later in a matplotlib fig:\n",
    "    ax[t].imshow(comparison)\n",
    "    ax[t].axis('off')\n",
    "    ax[t].set_title(pat_name)\n",
    "    plt.suptitle('Test Subjects')\n",
    "#     plt.tight_layout\n",
    "    logger.info('.')\n",
    "    t += 1\n",
    "plt.show()"
   ]
  }
 ],
 "metadata": {
  "kernelspec": {
   "display_name": "Python 2",
   "language": "python",
   "name": "python2"
  },
  "language_info": {
   "codemirror_mode": {
    "name": "ipython",
    "version": 2
   },
   "file_extension": ".py",
   "mimetype": "text/x-python",
   "name": "python",
   "nbconvert_exporter": "python",
   "pygments_lexer": "ipython2",
   "version": "2.7.11"
  }
 },
 "nbformat": 4,
 "nbformat_minor": 2
}
